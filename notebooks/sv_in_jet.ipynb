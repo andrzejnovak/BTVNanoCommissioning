{
 "cells": [
  {
   "cell_type": "code",
   "execution_count": 1,
   "id": "3e1fac04",
   "metadata": {},
   "outputs": [
    {
     "name": "stderr",
     "output_type": "stream",
     "text": [
      "/work/mmarcheg/miniconda3/envs/pocket-coffea/lib/python3.8/site-packages/coffea/util.py:154: FutureWarning: In coffea version v0.8.0 (target date: 31 Dec 2022), this will be an error.\n",
      "(Set coffea.deprecations_as_errors = True to get a stack trace now.)\n",
      "ImportError: coffea.hist is deprecated\n",
      "  warnings.warn(message, FutureWarning)\n"
     ]
    }
   ],
   "source": [
    "from coffea.nanoevents import NanoEventsFactory, NanoAODSchema\n",
    "from coffea import hist, processor\n",
    "import numpy as np\n",
    "import awkward as ak\n",
    "import matplotlib.pyplot as plt\n",
    "\n",
    "def get_sv_in_jet(jet, sv, R=0.8):\n",
    "\n",
    "    sv_dr = jet.delta_r(sv.p4)\n",
    "    sv_in_jet = sv_dr < R\n",
    "\n",
    "    return sv_in_jet"
   ]
  },
  {
   "cell_type": "code",
   "execution_count": 2,
   "id": "2cb199a5",
   "metadata": {},
   "outputs": [
    {
     "name": "stderr",
     "output_type": "stream",
     "text": [
      "/work/mmarcheg/miniconda3/envs/pocket-coffea/lib/python3.8/site-packages/coffea/nanoevents/mapping/uproot.py:86: UserWarning: Found duplicate branch FatJet_btagDDBvLV2 in <TTree 'Events' (1612 branches) at 0x7ff27c4931c0>, taking first instance\n",
      "  warnings.warn(\n",
      "/work/mmarcheg/miniconda3/envs/pocket-coffea/lib/python3.8/site-packages/coffea/nanoevents/mapping/uproot.py:86: UserWarning: Found duplicate branch FatJet_btagDDCvBV2 in <TTree 'Events' (1612 branches) at 0x7ff27c4931c0>, taking first instance\n",
      "  warnings.warn(\n",
      "/work/mmarcheg/miniconda3/envs/pocket-coffea/lib/python3.8/site-packages/coffea/nanoevents/mapping/uproot.py:86: UserWarning: Found duplicate branch FatJet_btagDDCvLV2 in <TTree 'Events' (1612 branches) at 0x7ff27c4931c0>, taking first instance\n",
      "  warnings.warn(\n",
      "/work/mmarcheg/miniconda3/envs/pocket-coffea/lib/python3.8/site-packages/coffea/nanoevents/mapping/uproot.py:86: UserWarning: Found duplicate branch FatJet_nBHadrons in <TTree 'Events' (1612 branches) at 0x7ff27c4931c0>, taking first instance\n",
      "  warnings.warn(\n",
      "/work/mmarcheg/miniconda3/envs/pocket-coffea/lib/python3.8/site-packages/coffea/nanoevents/mapping/uproot.py:86: UserWarning: Found duplicate branch FatJet_nCHadrons in <TTree 'Events' (1612 branches) at 0x7ff27c4931c0>, taking first instance\n",
      "  warnings.warn(\n",
      "/work/mmarcheg/miniconda3/envs/pocket-coffea/lib/python3.8/site-packages/coffea/nanoevents/mapping/uproot.py:86: UserWarning: Found duplicate branch SubJet_nBHadrons in <TTree 'Events' (1612 branches) at 0x7ff27c4931c0>, taking first instance\n",
      "  warnings.warn(\n",
      "/work/mmarcheg/miniconda3/envs/pocket-coffea/lib/python3.8/site-packages/coffea/nanoevents/mapping/uproot.py:86: UserWarning: Found duplicate branch SubJet_nCHadrons in <TTree 'Events' (1612 branches) at 0x7ff27c4931c0>, taking first instance\n",
      "  warnings.warn(\n"
     ]
    }
   ],
   "source": [
    "filename = \"/pnfs/psi.ch/cms/trivcat/store/user/mmarcheg/BTVNanoCommissioning/store/user/mmarcheg/PFNano/QCD_Pt-170To300_MuEnrichedPt5_TuneCP5_13TeV-pythia8/RunIISummer20UL16PreVFP-v01-106X_mcRun2_asymptotic_v17-v1/220311_144646/0000/nano_mc2016pre_162.root\"\n",
    "#filename = \"/pnfs/psi.ch/cms/trivcat/store/user/mmarcheg/BTVNanoCommissioning/store/user/mmarcheg/PFNano/QCD_Pt-1000_MuEnrichedPt5_TuneCP5_13TeV-pythia8/RunIISummer20UL16PreVFP-106X_mcRun2_asymptotic_v17-v1/211213_173836/0000/nano_mc2016pre_3-7.root\"\n",
    "events = NanoEventsFactory.from_root(filename, schemaclass=NanoAODSchema, entry_stop=10000).events()"
   ]
  },
  {
   "cell_type": "code",
   "execution_count": 3,
   "id": "b83bea12",
   "metadata": {},
   "outputs": [],
   "source": [
    "mask = ak.num(events.FatJet) > 0\n",
    "events = events[mask]"
   ]
  },
  {
   "cell_type": "code",
   "execution_count": 4,
   "id": "9020c0e8",
   "metadata": {},
   "outputs": [
    {
     "data": {
      "text/plain": [
       "<Array [183, 185, 188, 217, ... 198, 206, 234] type='9351 * ?float32[parameters=...'>"
      ]
     },
     "execution_count": 4,
     "metadata": {},
     "output_type": "execute_result"
    }
   ],
   "source": [
    "jet1 = events.FatJet[:,0]\n",
    "jet2 = ak.pad_none(events.FatJet,2)[:,1]\n",
    "sv   = events.SV\n",
    "jet2.pt"
   ]
  },
  {
   "cell_type": "code",
   "execution_count": 5,
   "id": "d287da1a",
   "metadata": {},
   "outputs": [
    {
     "data": {
      "text/plain": [
       "<Array [[3.07, 2.93, 3.07, 3.17, ... [3.4]] type='9351 * var * float32'>"
      ]
     },
     "execution_count": 5,
     "metadata": {},
     "output_type": "execute_result"
    }
   ],
   "source": [
    "dr1 = jet1.delta_r(sv.p4)\n",
    "dr1"
   ]
  },
  {
   "cell_type": "code",
   "execution_count": 6,
   "id": "babe9ba9",
   "metadata": {},
   "outputs": [
    {
     "data": {
      "text/plain": [
       "<Array [[0.095, 0.204, 0.114, ... [0.0112]] type='9351 * option[var * float32]'>"
      ]
     },
     "execution_count": 6,
     "metadata": {},
     "output_type": "execute_result"
    }
   ],
   "source": [
    "dr2 = jet2.delta_r(sv.p4)\n",
    "dr2"
   ]
  },
  {
   "cell_type": "code",
   "execution_count": 7,
   "id": "2ca2d2ac",
   "metadata": {},
   "outputs": [
    {
     "data": {
      "text/plain": [
       "<Array [[0.095, 0.204, 0.114, ... [0.0112]] type='9351 * option[var * float32]'>"
      ]
     },
     "execution_count": 7,
     "metadata": {},
     "output_type": "execute_result"
    }
   ],
   "source": [
    "dr2"
   ]
  },
  {
   "cell_type": "code",
   "execution_count": 8,
   "id": "256d738e",
   "metadata": {},
   "outputs": [
    {
     "data": {
      "text/plain": [
       "[[3.0740432739257812, 2.932978868484497, 3.071471929550171, 3.166590452194214],\n",
       " [0.053716354072093964, 0.09597958624362946],\n",
       " [],\n",
       " [3.659698009490967, 3.6384541988372803],\n",
       " []]"
      ]
     },
     "execution_count": 8,
     "metadata": {},
     "output_type": "execute_result"
    }
   ],
   "source": [
    "dr1[:5].tolist()"
   ]
  },
  {
   "cell_type": "code",
   "execution_count": 9,
   "id": "5a8a2b61",
   "metadata": {},
   "outputs": [
    {
     "data": {
      "text/plain": [
       "[[0.09498176723718643,\n",
       "  0.2043742835521698,\n",
       "  0.1139734759926796,\n",
       "  0.6798751354217529],\n",
       " [2.4852826595306396, 2.5709986686706543],\n",
       " [],\n",
       " [0.04078628495335579, 0.041919734328985214],\n",
       " None]"
      ]
     },
     "execution_count": 9,
     "metadata": {},
     "output_type": "execute_result"
    }
   ],
   "source": [
    "dr2[:5].tolist()"
   ]
  },
  {
   "cell_type": "code",
   "execution_count": 64,
   "id": "22fb47e1",
   "metadata": {},
   "outputs": [
    {
     "data": {
      "text/plain": [
       "[[False, False, False, False], [True, True], [], [False, False], []]"
      ]
     },
     "execution_count": 64,
     "metadata": {},
     "output_type": "execute_result"
    }
   ],
   "source": [
    "mask1 = get_sv_in_jet(jet1, sv)\n",
    "mask1[:5].tolist()"
   ]
  },
  {
   "cell_type": "code",
   "execution_count": 66,
   "id": "49a60c44",
   "metadata": {},
   "outputs": [
    {
     "data": {
      "text/plain": [
       "[[True, True, True, True], [False, False], [], [True, True], []]"
      ]
     },
     "execution_count": 66,
     "metadata": {},
     "output_type": "execute_result"
    }
   ],
   "source": [
    "mask2 = get_sv_in_jet(jet2, sv)\n",
    "empty = ak.Array([ak.count(mask2)*[]])\n",
    "mask2 = ak.where(ak.is_none(mask2), empty, mask2)\n",
    "mask2[:5].tolist()"
   ]
  },
  {
   "cell_type": "code",
   "execution_count": 67,
   "id": "0267a837",
   "metadata": {},
   "outputs": [
    {
     "data": {
      "text/plain": [
       "[[], [76.8125, 33.625], [], [], []]"
      ]
     },
     "execution_count": 67,
     "metadata": {},
     "output_type": "execute_result"
    }
   ],
   "source": [
    "sv_in_jet1 = events.SV[mask1]\n",
    "sv_in_jet2 = events.SV[mask2]\n",
    "sv_in_jet1.pt[:5].tolist()"
   ]
  },
  {
   "cell_type": "code",
   "execution_count": 68,
   "id": "fde75d15",
   "metadata": {},
   "outputs": [
    {
     "data": {
      "text/plain": [
       "[[], [76.8125, 33.625], [], [], []]"
      ]
     },
     "execution_count": 68,
     "metadata": {},
     "output_type": "execute_result"
    }
   ],
   "source": [
    "sv_in_jet1.pt[:5].tolist()"
   ]
  },
  {
   "cell_type": "code",
   "execution_count": 69,
   "id": "cbec0e30",
   "metadata": {},
   "outputs": [
    {
     "data": {
      "text/plain": [
       "[[7.16796875, 6.63671875, 6.8828125, 2.869140625],\n",
       " [],\n",
       " [],\n",
       " [9.7265625, 13.34375],\n",
       " []]"
      ]
     },
     "execution_count": 69,
     "metadata": {},
     "output_type": "execute_result"
    }
   ],
   "source": [
    "sv_in_jet2.pt[:5].tolist()"
   ]
  },
  {
   "cell_type": "code",
   "execution_count": 14,
   "id": "dac2dae5",
   "metadata": {},
   "outputs": [
    {
     "data": {
      "text/plain": [
       "[[7.16796875, 6.63671875, 6.8828125, 2.869140625],\n",
       " [76.8125, 33.625],\n",
       " [],\n",
       " [9.7265625, 13.34375],\n",
       " []]"
      ]
     },
     "execution_count": 14,
     "metadata": {},
     "output_type": "execute_result"
    }
   ],
   "source": [
    "ak.concatenate((sv_in_jet1, sv_in_jet2), axis=1).pt[:5].tolist()"
   ]
  },
  {
   "cell_type": "code",
   "execution_count": 15,
   "id": "a218cbc7",
   "metadata": {
    "scrolled": true
   },
   "outputs": [
    {
     "data": {
      "text/plain": [
       "<Array [[[]], [[76.8, 33.6], ... [[]], [[]]] type='9351 * var * var * float32[pa...'>"
      ]
     },
     "execution_count": 15,
     "metadata": {},
     "output_type": "execute_result"
    }
   ],
   "source": [
    "ak.unflatten(sv_in_jet1, ak.ones_like(jet1.pt, dtype=int)).pt"
   ]
  },
  {
   "cell_type": "code",
   "execution_count": 16,
   "id": "97a65ff0",
   "metadata": {},
   "outputs": [
    {
     "data": {
      "text/plain": [
       "<Array [[[True, True, True, True, ... [[True]]] type='9351 * var * option[var * ...'>"
      ]
     },
     "execution_count": 16,
     "metadata": {},
     "output_type": "execute_result"
    }
   ],
   "source": [
    "m1 = ak.unflatten(mask1, ak.ones_like(ak.num(mask1)))\n",
    "m2 = ak.unflatten(mask2, ak.ones_like(ak.num(mask2)))\n",
    "m2"
   ]
  },
  {
   "cell_type": "code",
   "execution_count": 24,
   "id": "fbe0c1c9",
   "metadata": {},
   "outputs": [
    {
     "data": {
      "text/plain": [
       "<Array [1, 1, 1, 1, 1, 1, ... 1, 1, 1, 1, 1, 1] type='9351 * int64[parameters={\"...'>"
      ]
     },
     "execution_count": 24,
     "metadata": {},
     "output_type": "execute_result"
    }
   ],
   "source": [
    "ak.firsts(sv_in_jet1.pt)\n",
    "ak.ones_like(jet1.pt, dtype=int)"
   ]
  },
  {
   "cell_type": "code",
   "execution_count": 30,
   "id": "8e063601",
   "metadata": {},
   "outputs": [],
   "source": [
    "sv_in_jet1_unflatten = ak.unflatten(ak.firsts(sv_in_jet1), ak.ones_like(jet1.pt, dtype=int))\n",
    "sv_in_jet2_unflatten = ak.unflatten(ak.firsts(sv_in_jet2), ak.ones_like(jet1.pt, dtype=int))"
   ]
  },
  {
   "cell_type": "code",
   "execution_count": 34,
   "id": "d9fd3520",
   "metadata": {},
   "outputs": [
    {
     "data": {
      "text/plain": [
       "[[None, 7.16796875],\n",
       " [76.8125, None],\n",
       " [None, None],\n",
       " [None, 9.7265625],\n",
       " [None, None]]"
      ]
     },
     "execution_count": 34,
     "metadata": {},
     "output_type": "execute_result"
    }
   ],
   "source": [
    "ak.concatenate((sv_in_jet1_unflatten, sv_in_jet2_unflatten), axis=1).pt[:5].tolist()"
   ]
  },
  {
   "cell_type": "code",
   "execution_count": 77,
   "id": "33e1659e",
   "metadata": {},
   "outputs": [
    {
     "data": {
      "text/plain": [
       "[[],\n",
       " [{'pt': 76.8125,\n",
       "   'eta': 0.207916259765625,\n",
       "   'phi': 2.07275390625,\n",
       "   'mass': 3.33984375},\n",
       "  {'pt': 33.625,\n",
       "   'eta': 0.150634765625,\n",
       "   'phi': 2.19091796875,\n",
       "   'mass': 3.94140625}],\n",
       " [],\n",
       " [],\n",
       " []]"
      ]
     },
     "execution_count": 77,
     "metadata": {},
     "output_type": "execute_result"
    }
   ],
   "source": [
    "sv_in_jet1.p4[:5].tolist()"
   ]
  },
  {
   "cell_type": "code",
   "execution_count": 61,
   "id": "50418a20",
   "metadata": {},
   "outputs": [
    {
     "data": {
      "text/plain": [
       "[{'x': 0.0, 'y': 0.0, 'z': 0.0, 't': 0.0},\n",
       " {'x': -56.49839782714844,\n",
       "  'y': 94.70137786865234,\n",
       "  'z': 21.17015266418457,\n",
       "  't': 112.78465270996094},\n",
       " {'x': 0.0, 'y': 0.0, 'z': 0.0, 't': 0.0},\n",
       " {'x': 0.0, 'y': 0.0, 'z': 0.0, 't': 0.0},\n",
       " {'x': 0.0, 'y': 0.0, 'z': 0.0, 't': 0.0}]"
      ]
     },
     "execution_count": 61,
     "metadata": {},
     "output_type": "execute_result"
    }
   ],
   "source": [
    "sv_in_jet1.p4.sum()[:5].tolist()"
   ]
  },
  {
   "cell_type": "code",
   "execution_count": 63,
   "id": "6f522c0b",
   "metadata": {},
   "outputs": [
    {
     "name": "stderr",
     "output_type": "stream",
     "text": [
      "/work/mmarcheg/miniconda3/envs/pocket-coffea/lib/python3.8/site-packages/awkward/_connect/_numpy.py:195: RuntimeWarning: divide by zero encountered in log\n",
      "  result = getattr(ufunc, method)(\n"
     ]
    },
    {
     "data": {
      "text/plain": [
       "[-inf, 2.358278274536133, -inf, -inf, -inf]"
      ]
     },
     "execution_count": 63,
     "metadata": {},
     "output_type": "execute_result"
    }
   ],
   "source": [
    "np.log(sv_in_jet1.p4.sum().mass)[:5].tolist()"
   ]
  },
  {
   "cell_type": "code",
   "execution_count": 74,
   "id": "0d5df64d",
   "metadata": {},
   "outputs": [
    {
     "data": {
      "text/plain": [
       "<Array [[0], [10.6], [0], ... [4.42], [0], [0]] type='9351 * var * float32'>"
      ]
     },
     "execution_count": 74,
     "metadata": {},
     "output_type": "execute_result"
    }
   ],
   "source": [
    "sumsv1mass = sv_in_jet1.p4.sum().mass\n",
    "sumsv2mass = sv_in_jet2.p4.sum().mass\n",
    "ak.unflatten(sumsv1mass, ak.ones_like(sumsv1mass, dtype=int))"
   ]
  },
  {
   "cell_type": "code",
   "execution_count": 75,
   "id": "1d55782b",
   "metadata": {},
   "outputs": [
    {
     "data": {
      "text/plain": [
       "<Array [[0, 7], [10.6, 0, ... 0.996], [0, 1.4]] type='9351 * var * ?float32'>"
      ]
     },
     "execution_count": 75,
     "metadata": {},
     "output_type": "execute_result"
    }
   ],
   "source": [
    "ak.concatenate((sumsv1mass[:,None], sumsv2mass[:,None]), axis=1)"
   ]
  },
  {
   "cell_type": "code",
   "execution_count": 76,
   "id": "85e13ccd",
   "metadata": {},
   "outputs": [
    {
     "data": {
      "text/plain": [
       "<Array [[209, 183], [189, ... 206], [268, 234]] type='9351 * var * float32[param...'>"
      ]
     },
     "execution_count": 76,
     "metadata": {},
     "output_type": "execute_result"
    }
   ],
   "source": [
    "events.FatJet.pt"
   ]
  },
  {
   "cell_type": "code",
   "execution_count": 54,
   "id": "26ee2696",
   "metadata": {},
   "outputs": [
    {
     "data": {
      "text/plain": [
       "<Array [True, False, True, ... True, True] type='9351 * bool'>"
      ]
     },
     "execution_count": 54,
     "metadata": {},
     "output_type": "execute_result"
    }
   ],
   "source": [
    "np.isnan(np.log(ak.where(sumsv1mass == 0, -2, sumsv1mass)))"
   ]
  },
  {
   "cell_type": "code",
   "execution_count": 57,
   "id": "181b31f7",
   "metadata": {},
   "outputs": [
    {
     "data": {
      "text/plain": [
       "(<Array [0, 2, 3, 4, ... 9345, 9346, 9349, 9350] type='5103 * int64'>,)"
      ]
     },
     "execution_count": 57,
     "metadata": {},
     "output_type": "execute_result"
    }
   ],
   "source": [
    "ak.where(np.isnan(np.log(ak.where(sumsv1mass == 0, -2, sumsv1mass))), )"
   ]
  },
  {
   "cell_type": "code",
   "execution_count": 84,
   "id": "c4d58104",
   "metadata": {},
   "outputs": [
    {
     "data": {
      "text/plain": [
       "<Array [0, 2, 0, 0, 0, 0, ... 0, 0, 1, 2, 0, 0] type='9351 * int64'>"
      ]
     },
     "execution_count": 84,
     "metadata": {},
     "output_type": "execute_result"
    }
   ],
   "source": [
    "ak.count(sv_in_jet1.pt, axis=1)"
   ]
  },
  {
   "cell_type": "code",
   "execution_count": null,
   "id": "b7faebcc",
   "metadata": {},
   "outputs": [],
   "source": []
  }
 ],
 "metadata": {
  "kernelspec": {
   "display_name": "Python 3 (ipykernel)",
   "language": "python",
   "name": "python3"
  },
  "language_info": {
   "codemirror_mode": {
    "name": "ipython",
    "version": 3
   },
   "file_extension": ".py",
   "mimetype": "text/x-python",
   "name": "python",
   "nbconvert_exporter": "python",
   "pygments_lexer": "ipython3",
   "version": "3.8.15"
  }
 },
 "nbformat": 4,
 "nbformat_minor": 5
}
