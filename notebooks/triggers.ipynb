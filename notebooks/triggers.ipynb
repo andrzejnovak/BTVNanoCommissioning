{
 "cells": [
  {
   "cell_type": "code",
   "execution_count": 1,
   "id": "3e1fac04",
   "metadata": {},
   "outputs": [],
   "source": [
    "from coffea.nanoevents import NanoEventsFactory, NanoAODSchema\n",
    "from coffea import hist, processor\n",
    "import numpy as np\n",
    "import awkward as ak\n",
    "import matplotlib.pyplot as plt"
   ]
  },
  {
   "cell_type": "code",
   "execution_count": 2,
   "id": "2cb199a5",
   "metadata": {},
   "outputs": [
    {
     "name": "stderr",
     "output_type": "stream",
     "text": [
      "/work/mmarcheg/miniconda3/envs/coffea/lib/python3.9/site-packages/coffea/nanoevents/mapping/uproot.py:75: UserWarning: Found duplicate branch FatJet_btagDDBvLV2 in <TTree 'Events' (1682 branches) at 0x7ffa1a5e2c40>, taking first instance\n",
      "  warnings.warn(\n",
      "/work/mmarcheg/miniconda3/envs/coffea/lib/python3.9/site-packages/coffea/nanoevents/mapping/uproot.py:75: UserWarning: Found duplicate branch FatJet_btagDDCvBV2 in <TTree 'Events' (1682 branches) at 0x7ffa1a5e2c40>, taking first instance\n",
      "  warnings.warn(\n",
      "/work/mmarcheg/miniconda3/envs/coffea/lib/python3.9/site-packages/coffea/nanoevents/mapping/uproot.py:75: UserWarning: Found duplicate branch FatJet_btagDDCvLV2 in <TTree 'Events' (1682 branches) at 0x7ffa1a5e2c40>, taking first instance\n",
      "  warnings.warn(\n"
     ]
    },
    {
     "name": "stdout",
     "output_type": "stream",
     "text": [
      "2018A nEvents= 21650\n"
     ]
    },
    {
     "name": "stderr",
     "output_type": "stream",
     "text": [
      "/work/mmarcheg/miniconda3/envs/coffea/lib/python3.9/site-packages/coffea/nanoevents/mapping/uproot.py:75: UserWarning: Found duplicate branch FatJet_btagDDBvLV2 in <TTree 'Events' (1425 branches) at 0x7ff89ece2220>, taking first instance\n",
      "  warnings.warn(\n",
      "/work/mmarcheg/miniconda3/envs/coffea/lib/python3.9/site-packages/coffea/nanoevents/mapping/uproot.py:75: UserWarning: Found duplicate branch FatJet_btagDDCvBV2 in <TTree 'Events' (1425 branches) at 0x7ff89ece2220>, taking first instance\n",
      "  warnings.warn(\n",
      "/work/mmarcheg/miniconda3/envs/coffea/lib/python3.9/site-packages/coffea/nanoevents/mapping/uproot.py:75: UserWarning: Found duplicate branch FatJet_btagDDCvLV2 in <TTree 'Events' (1425 branches) at 0x7ff89ece2220>, taking first instance\n",
      "  warnings.warn(\n"
     ]
    },
    {
     "name": "stdout",
     "output_type": "stream",
     "text": [
      "2018B nEvents= 15556\n"
     ]
    },
    {
     "name": "stderr",
     "output_type": "stream",
     "text": [
      "/work/mmarcheg/miniconda3/envs/coffea/lib/python3.9/site-packages/coffea/nanoevents/mapping/uproot.py:75: UserWarning: Found duplicate branch FatJet_btagDDBvLV2 in <TTree 'Events' (1455 branches) at 0x7ff89a9fe460>, taking first instance\n",
      "  warnings.warn(\n",
      "/work/mmarcheg/miniconda3/envs/coffea/lib/python3.9/site-packages/coffea/nanoevents/mapping/uproot.py:75: UserWarning: Found duplicate branch FatJet_btagDDCvBV2 in <TTree 'Events' (1455 branches) at 0x7ff89a9fe460>, taking first instance\n",
      "  warnings.warn(\n",
      "/work/mmarcheg/miniconda3/envs/coffea/lib/python3.9/site-packages/coffea/nanoevents/mapping/uproot.py:75: UserWarning: Found duplicate branch FatJet_btagDDCvLV2 in <TTree 'Events' (1455 branches) at 0x7ff89a9fe460>, taking first instance\n",
      "  warnings.warn(\n"
     ]
    },
    {
     "name": "stdout",
     "output_type": "stream",
     "text": [
      "2018C nEvents= 22394\n",
      "2018D nEvents= 24919\n"
     ]
    },
    {
     "name": "stderr",
     "output_type": "stream",
     "text": [
      "/work/mmarcheg/miniconda3/envs/coffea/lib/python3.9/site-packages/coffea/nanoevents/mapping/uproot.py:75: UserWarning: Found duplicate branch FatJet_btagDDBvLV2 in <TTree 'Events' (1480 branches) at 0x7ff897965040>, taking first instance\n",
      "  warnings.warn(\n",
      "/work/mmarcheg/miniconda3/envs/coffea/lib/python3.9/site-packages/coffea/nanoevents/mapping/uproot.py:75: UserWarning: Found duplicate branch FatJet_btagDDCvBV2 in <TTree 'Events' (1480 branches) at 0x7ff897965040>, taking first instance\n",
      "  warnings.warn(\n",
      "/work/mmarcheg/miniconda3/envs/coffea/lib/python3.9/site-packages/coffea/nanoevents/mapping/uproot.py:75: UserWarning: Found duplicate branch FatJet_btagDDCvLV2 in <TTree 'Events' (1480 branches) at 0x7ff897965040>, taking first instance\n",
      "  warnings.warn(\n"
     ]
    }
   ],
   "source": [
    "filename = {}\n",
    "filename['2018A'] = \"/pnfs/psi.ch/cms/trivcat/store/user/mmarcheg/BTVNanoCommissioning/store/user/anovak/PFNano/106X_v2_18rsb2/BTagMu/Run2018A-17Sep2018-v1_PFNanoAOD/210210_185436/0000/nano_data2018abc_46.root\"\n",
    "filename['2018B'] = \"/pnfs/psi.ch/cms/trivcat/store/user/mmarcheg/BTVNanoCommissioning/store/user/anovak/PFNano/106X_v2_18rsb2/BTagMu/Run2018B-17Sep2018-v1_PFNanoAOD/210210_185453/0000/nano_data2018abc_19.root\"\n",
    "filename['2018C'] = \"/pnfs/psi.ch/cms/trivcat/store/user/mmarcheg/BTVNanoCommissioning/store/user/anovak/PFNano/106X_v2_18rsb2/BTagMu/Run2018C-17Sep2018-v1_PFNanoAOD/210210_185511/0000/nano_data2018abc_417.root\"\n",
    "filename['2018D'] = \"/pnfs/psi.ch/cms/trivcat/store/user/mmarcheg/BTVNanoCommissioning/store/user/anovak/PFNano/106X_v2_18rsb2/BTagMu/Run2018D-PromptReco-v2_PFNanoAOD/210210_192246/0000/nano_data2018d_47.root\"\n",
    "events = {}\n",
    "for era, fname in filename.items():\n",
    "    events[era] = NanoEventsFactory.from_root(fname, schemaclass=NanoAODSchema).events()\n",
    "    print(era, \"nEvents=\", len(events[era]))"
   ]
  },
  {
   "cell_type": "code",
   "execution_count": 3,
   "id": "774dee34",
   "metadata": {},
   "outputs": [
    {
     "name": "stdout",
     "output_type": "stream",
     "text": [
      "2018A ['BTagMu_AK4Jet300_Mu5', 'BTagMu_AK8Jet300_Mu5']\n",
      "2018B ['BTagMu_AK4Jet300_Mu5', 'BTagMu_AK8Jet300_Mu5']\n",
      "2018C ['BTagMu_AK4Jet300_Mu5', 'BTagMu_AK8Jet300_Mu5']\n",
      "2018D ['BTagMu_AK4Jet300_Mu5_noalgo', 'BTagMu_AK8Jet300_Mu5_noalgo']\n"
     ]
    }
   ],
   "source": [
    "for era in filename.keys():\n",
    "    print(era, list(filter(lambda x : 'BTagMu_' in x and 'Jet300' in x, events[era].HLT.fields)))"
   ]
  },
  {
   "cell_type": "code",
   "execution_count": 4,
   "id": "3fb1c9d6",
   "metadata": {},
   "outputs": [
    {
     "name": "stderr",
     "output_type": "stream",
     "text": [
      "/work/mmarcheg/miniconda3/envs/coffea/lib/python3.9/site-packages/coffea/nanoevents/mapping/uproot.py:75: UserWarning: Found duplicate branch FatJet_btagDDBvLV2 in <TTree 'Events' (1574 branches) at 0x7ff8a218eb80>, taking first instance\n",
      "  warnings.warn(\n",
      "/work/mmarcheg/miniconda3/envs/coffea/lib/python3.9/site-packages/coffea/nanoevents/mapping/uproot.py:75: UserWarning: Found duplicate branch FatJet_btagDDCvBV2 in <TTree 'Events' (1574 branches) at 0x7ff8a218eb80>, taking first instance\n",
      "  warnings.warn(\n",
      "/work/mmarcheg/miniconda3/envs/coffea/lib/python3.9/site-packages/coffea/nanoevents/mapping/uproot.py:75: UserWarning: Found duplicate branch FatJet_btagDDCvLV2 in <TTree 'Events' (1574 branches) at 0x7ff8a218eb80>, taking first instance\n",
      "  warnings.warn(\n",
      "/work/mmarcheg/miniconda3/envs/coffea/lib/python3.9/site-packages/coffea/nanoevents/mapping/uproot.py:75: UserWarning: Found duplicate branch FatJet_nBHadrons in <TTree 'Events' (1574 branches) at 0x7ff8a218eb80>, taking first instance\n",
      "  warnings.warn(\n",
      "/work/mmarcheg/miniconda3/envs/coffea/lib/python3.9/site-packages/coffea/nanoevents/mapping/uproot.py:75: UserWarning: Found duplicate branch FatJet_nCHadrons in <TTree 'Events' (1574 branches) at 0x7ff8a218eb80>, taking first instance\n",
      "  warnings.warn(\n",
      "/work/mmarcheg/miniconda3/envs/coffea/lib/python3.9/site-packages/coffea/nanoevents/mapping/uproot.py:75: UserWarning: Found duplicate branch SubJet_nBHadrons in <TTree 'Events' (1574 branches) at 0x7ff8a218eb80>, taking first instance\n",
      "  warnings.warn(\n",
      "/work/mmarcheg/miniconda3/envs/coffea/lib/python3.9/site-packages/coffea/nanoevents/mapping/uproot.py:75: UserWarning: Found duplicate branch SubJet_nCHadrons in <TTree 'Events' (1574 branches) at 0x7ff8a218eb80>, taking first instance\n",
      "  warnings.warn(\n"
     ]
    },
    {
     "name": "stdout",
     "output_type": "stream",
     "text": [
      "2018_Pt-120to170 nEvents= 229814\n"
     ]
    },
    {
     "name": "stderr",
     "output_type": "stream",
     "text": [
      "/work/mmarcheg/miniconda3/envs/coffea/lib/python3.9/site-packages/coffea/nanoevents/mapping/uproot.py:75: UserWarning: Found duplicate branch FatJet_btagDDBvLV2 in <TTree 'Events' (1574 branches) at 0x7ff87a059fa0>, taking first instance\n",
      "  warnings.warn(\n",
      "/work/mmarcheg/miniconda3/envs/coffea/lib/python3.9/site-packages/coffea/nanoevents/mapping/uproot.py:75: UserWarning: Found duplicate branch FatJet_btagDDCvBV2 in <TTree 'Events' (1574 branches) at 0x7ff87a059fa0>, taking first instance\n",
      "  warnings.warn(\n",
      "/work/mmarcheg/miniconda3/envs/coffea/lib/python3.9/site-packages/coffea/nanoevents/mapping/uproot.py:75: UserWarning: Found duplicate branch FatJet_btagDDCvLV2 in <TTree 'Events' (1574 branches) at 0x7ff87a059fa0>, taking first instance\n",
      "  warnings.warn(\n",
      "/work/mmarcheg/miniconda3/envs/coffea/lib/python3.9/site-packages/coffea/nanoevents/mapping/uproot.py:75: UserWarning: Found duplicate branch FatJet_nBHadrons in <TTree 'Events' (1574 branches) at 0x7ff87a059fa0>, taking first instance\n",
      "  warnings.warn(\n",
      "/work/mmarcheg/miniconda3/envs/coffea/lib/python3.9/site-packages/coffea/nanoevents/mapping/uproot.py:75: UserWarning: Found duplicate branch FatJet_nCHadrons in <TTree 'Events' (1574 branches) at 0x7ff87a059fa0>, taking first instance\n",
      "  warnings.warn(\n",
      "/work/mmarcheg/miniconda3/envs/coffea/lib/python3.9/site-packages/coffea/nanoevents/mapping/uproot.py:75: UserWarning: Found duplicate branch SubJet_nBHadrons in <TTree 'Events' (1574 branches) at 0x7ff87a059fa0>, taking first instance\n",
      "  warnings.warn(\n",
      "/work/mmarcheg/miniconda3/envs/coffea/lib/python3.9/site-packages/coffea/nanoevents/mapping/uproot.py:75: UserWarning: Found duplicate branch SubJet_nCHadrons in <TTree 'Events' (1574 branches) at 0x7ff87a059fa0>, taking first instance\n",
      "  warnings.warn(\n"
     ]
    },
    {
     "name": "stdout",
     "output_type": "stream",
     "text": [
      "2018_Pt-170to300 nEvents= 238907\n"
     ]
    },
    {
     "name": "stderr",
     "output_type": "stream",
     "text": [
      "/work/mmarcheg/miniconda3/envs/coffea/lib/python3.9/site-packages/coffea/nanoevents/mapping/uproot.py:75: UserWarning: Found duplicate branch FatJet_btagDDBvLV2 in <TTree 'Events' (1574 branches) at 0x7ff85a0e3c70>, taking first instance\n",
      "  warnings.warn(\n",
      "/work/mmarcheg/miniconda3/envs/coffea/lib/python3.9/site-packages/coffea/nanoevents/mapping/uproot.py:75: UserWarning: Found duplicate branch FatJet_btagDDCvBV2 in <TTree 'Events' (1574 branches) at 0x7ff85a0e3c70>, taking first instance\n",
      "  warnings.warn(\n",
      "/work/mmarcheg/miniconda3/envs/coffea/lib/python3.9/site-packages/coffea/nanoevents/mapping/uproot.py:75: UserWarning: Found duplicate branch FatJet_btagDDCvLV2 in <TTree 'Events' (1574 branches) at 0x7ff85a0e3c70>, taking first instance\n",
      "  warnings.warn(\n",
      "/work/mmarcheg/miniconda3/envs/coffea/lib/python3.9/site-packages/coffea/nanoevents/mapping/uproot.py:75: UserWarning: Found duplicate branch FatJet_nBHadrons in <TTree 'Events' (1574 branches) at 0x7ff85a0e3c70>, taking first instance\n",
      "  warnings.warn(\n",
      "/work/mmarcheg/miniconda3/envs/coffea/lib/python3.9/site-packages/coffea/nanoevents/mapping/uproot.py:75: UserWarning: Found duplicate branch FatJet_nCHadrons in <TTree 'Events' (1574 branches) at 0x7ff85a0e3c70>, taking first instance\n",
      "  warnings.warn(\n",
      "/work/mmarcheg/miniconda3/envs/coffea/lib/python3.9/site-packages/coffea/nanoevents/mapping/uproot.py:75: UserWarning: Found duplicate branch SubJet_nBHadrons in <TTree 'Events' (1574 branches) at 0x7ff85a0e3c70>, taking first instance\n",
      "  warnings.warn(\n",
      "/work/mmarcheg/miniconda3/envs/coffea/lib/python3.9/site-packages/coffea/nanoevents/mapping/uproot.py:75: UserWarning: Found duplicate branch SubJet_nCHadrons in <TTree 'Events' (1574 branches) at 0x7ff85a0e3c70>, taking first instance\n",
      "  warnings.warn(\n"
     ]
    },
    {
     "name": "stdout",
     "output_type": "stream",
     "text": [
      "2018_Pt-300to470 nEvents= 288698\n"
     ]
    },
    {
     "name": "stderr",
     "output_type": "stream",
     "text": [
      "/work/mmarcheg/miniconda3/envs/coffea/lib/python3.9/site-packages/coffea/nanoevents/mapping/uproot.py:75: UserWarning: Found duplicate branch FatJet_btagDDBvLV2 in <TTree 'Events' (1574 branches) at 0x7ff82e76cb20>, taking first instance\n",
      "  warnings.warn(\n",
      "/work/mmarcheg/miniconda3/envs/coffea/lib/python3.9/site-packages/coffea/nanoevents/mapping/uproot.py:75: UserWarning: Found duplicate branch FatJet_btagDDCvBV2 in <TTree 'Events' (1574 branches) at 0x7ff82e76cb20>, taking first instance\n",
      "  warnings.warn(\n",
      "/work/mmarcheg/miniconda3/envs/coffea/lib/python3.9/site-packages/coffea/nanoevents/mapping/uproot.py:75: UserWarning: Found duplicate branch FatJet_btagDDCvLV2 in <TTree 'Events' (1574 branches) at 0x7ff82e76cb20>, taking first instance\n",
      "  warnings.warn(\n",
      "/work/mmarcheg/miniconda3/envs/coffea/lib/python3.9/site-packages/coffea/nanoevents/mapping/uproot.py:75: UserWarning: Found duplicate branch FatJet_nBHadrons in <TTree 'Events' (1574 branches) at 0x7ff82e76cb20>, taking first instance\n",
      "  warnings.warn(\n",
      "/work/mmarcheg/miniconda3/envs/coffea/lib/python3.9/site-packages/coffea/nanoevents/mapping/uproot.py:75: UserWarning: Found duplicate branch FatJet_nCHadrons in <TTree 'Events' (1574 branches) at 0x7ff82e76cb20>, taking first instance\n",
      "  warnings.warn(\n",
      "/work/mmarcheg/miniconda3/envs/coffea/lib/python3.9/site-packages/coffea/nanoevents/mapping/uproot.py:75: UserWarning: Found duplicate branch SubJet_nBHadrons in <TTree 'Events' (1574 branches) at 0x7ff82e76cb20>, taking first instance\n",
      "  warnings.warn(\n",
      "/work/mmarcheg/miniconda3/envs/coffea/lib/python3.9/site-packages/coffea/nanoevents/mapping/uproot.py:75: UserWarning: Found duplicate branch SubJet_nCHadrons in <TTree 'Events' (1574 branches) at 0x7ff82e76cb20>, taking first instance\n",
      "  warnings.warn(\n"
     ]
    },
    {
     "name": "stdout",
     "output_type": "stream",
     "text": [
      "2018_Pt-470to600 nEvents= 251460\n"
     ]
    },
    {
     "name": "stderr",
     "output_type": "stream",
     "text": [
      "/work/mmarcheg/miniconda3/envs/coffea/lib/python3.9/site-packages/coffea/nanoevents/mapping/uproot.py:75: UserWarning: Found duplicate branch FatJet_btagDDBvLV2 in <TTree 'Events' (1574 branches) at 0x7ff80654df40>, taking first instance\n",
      "  warnings.warn(\n",
      "/work/mmarcheg/miniconda3/envs/coffea/lib/python3.9/site-packages/coffea/nanoevents/mapping/uproot.py:75: UserWarning: Found duplicate branch FatJet_btagDDCvBV2 in <TTree 'Events' (1574 branches) at 0x7ff80654df40>, taking first instance\n",
      "  warnings.warn(\n",
      "/work/mmarcheg/miniconda3/envs/coffea/lib/python3.9/site-packages/coffea/nanoevents/mapping/uproot.py:75: UserWarning: Found duplicate branch FatJet_btagDDCvLV2 in <TTree 'Events' (1574 branches) at 0x7ff80654df40>, taking first instance\n",
      "  warnings.warn(\n",
      "/work/mmarcheg/miniconda3/envs/coffea/lib/python3.9/site-packages/coffea/nanoevents/mapping/uproot.py:75: UserWarning: Found duplicate branch FatJet_nBHadrons in <TTree 'Events' (1574 branches) at 0x7ff80654df40>, taking first instance\n",
      "  warnings.warn(\n",
      "/work/mmarcheg/miniconda3/envs/coffea/lib/python3.9/site-packages/coffea/nanoevents/mapping/uproot.py:75: UserWarning: Found duplicate branch FatJet_nCHadrons in <TTree 'Events' (1574 branches) at 0x7ff80654df40>, taking first instance\n",
      "  warnings.warn(\n",
      "/work/mmarcheg/miniconda3/envs/coffea/lib/python3.9/site-packages/coffea/nanoevents/mapping/uproot.py:75: UserWarning: Found duplicate branch SubJet_nBHadrons in <TTree 'Events' (1574 branches) at 0x7ff80654df40>, taking first instance\n",
      "  warnings.warn(\n",
      "/work/mmarcheg/miniconda3/envs/coffea/lib/python3.9/site-packages/coffea/nanoevents/mapping/uproot.py:75: UserWarning: Found duplicate branch SubJet_nCHadrons in <TTree 'Events' (1574 branches) at 0x7ff80654df40>, taking first instance\n",
      "  warnings.warn(\n"
     ]
    },
    {
     "name": "stdout",
     "output_type": "stream",
     "text": [
      "2018_Pt-600to800 nEvents= 191178\n"
     ]
    },
    {
     "name": "stderr",
     "output_type": "stream",
     "text": [
      "/work/mmarcheg/miniconda3/envs/coffea/lib/python3.9/site-packages/coffea/nanoevents/mapping/uproot.py:75: UserWarning: Found duplicate branch FatJet_btagDDBvLV2 in <TTree 'Events' (1574 branches) at 0x7ff7e6c7aeb0>, taking first instance\n",
      "  warnings.warn(\n",
      "/work/mmarcheg/miniconda3/envs/coffea/lib/python3.9/site-packages/coffea/nanoevents/mapping/uproot.py:75: UserWarning: Found duplicate branch FatJet_btagDDCvBV2 in <TTree 'Events' (1574 branches) at 0x7ff7e6c7aeb0>, taking first instance\n",
      "  warnings.warn(\n",
      "/work/mmarcheg/miniconda3/envs/coffea/lib/python3.9/site-packages/coffea/nanoevents/mapping/uproot.py:75: UserWarning: Found duplicate branch FatJet_btagDDCvLV2 in <TTree 'Events' (1574 branches) at 0x7ff7e6c7aeb0>, taking first instance\n",
      "  warnings.warn(\n",
      "/work/mmarcheg/miniconda3/envs/coffea/lib/python3.9/site-packages/coffea/nanoevents/mapping/uproot.py:75: UserWarning: Found duplicate branch FatJet_nBHadrons in <TTree 'Events' (1574 branches) at 0x7ff7e6c7aeb0>, taking first instance\n",
      "  warnings.warn(\n",
      "/work/mmarcheg/miniconda3/envs/coffea/lib/python3.9/site-packages/coffea/nanoevents/mapping/uproot.py:75: UserWarning: Found duplicate branch FatJet_nCHadrons in <TTree 'Events' (1574 branches) at 0x7ff7e6c7aeb0>, taking first instance\n",
      "  warnings.warn(\n",
      "/work/mmarcheg/miniconda3/envs/coffea/lib/python3.9/site-packages/coffea/nanoevents/mapping/uproot.py:75: UserWarning: Found duplicate branch SubJet_nBHadrons in <TTree 'Events' (1574 branches) at 0x7ff7e6c7aeb0>, taking first instance\n",
      "  warnings.warn(\n",
      "/work/mmarcheg/miniconda3/envs/coffea/lib/python3.9/site-packages/coffea/nanoevents/mapping/uproot.py:75: UserWarning: Found duplicate branch SubJet_nCHadrons in <TTree 'Events' (1574 branches) at 0x7ff7e6c7aeb0>, taking first instance\n",
      "  warnings.warn(\n"
     ]
    },
    {
     "name": "stdout",
     "output_type": "stream",
     "text": [
      "2018_Pt-800to1000 nEvents= 103156\n",
      "2018_Pt-1000toInf nEvents= 196153\n"
     ]
    },
    {
     "name": "stderr",
     "output_type": "stream",
     "text": [
      "/work/mmarcheg/miniconda3/envs/coffea/lib/python3.9/site-packages/coffea/nanoevents/mapping/uproot.py:75: UserWarning: Found duplicate branch FatJet_btagDDBvLV2 in <TTree 'Events' (1574 branches) at 0x7ff7d48d6d60>, taking first instance\n",
      "  warnings.warn(\n",
      "/work/mmarcheg/miniconda3/envs/coffea/lib/python3.9/site-packages/coffea/nanoevents/mapping/uproot.py:75: UserWarning: Found duplicate branch FatJet_btagDDCvBV2 in <TTree 'Events' (1574 branches) at 0x7ff7d48d6d60>, taking first instance\n",
      "  warnings.warn(\n",
      "/work/mmarcheg/miniconda3/envs/coffea/lib/python3.9/site-packages/coffea/nanoevents/mapping/uproot.py:75: UserWarning: Found duplicate branch FatJet_btagDDCvLV2 in <TTree 'Events' (1574 branches) at 0x7ff7d48d6d60>, taking first instance\n",
      "  warnings.warn(\n",
      "/work/mmarcheg/miniconda3/envs/coffea/lib/python3.9/site-packages/coffea/nanoevents/mapping/uproot.py:75: UserWarning: Found duplicate branch FatJet_nBHadrons in <TTree 'Events' (1574 branches) at 0x7ff7d48d6d60>, taking first instance\n",
      "  warnings.warn(\n",
      "/work/mmarcheg/miniconda3/envs/coffea/lib/python3.9/site-packages/coffea/nanoevents/mapping/uproot.py:75: UserWarning: Found duplicate branch FatJet_nCHadrons in <TTree 'Events' (1574 branches) at 0x7ff7d48d6d60>, taking first instance\n",
      "  warnings.warn(\n",
      "/work/mmarcheg/miniconda3/envs/coffea/lib/python3.9/site-packages/coffea/nanoevents/mapping/uproot.py:75: UserWarning: Found duplicate branch SubJet_nBHadrons in <TTree 'Events' (1574 branches) at 0x7ff7d48d6d60>, taking first instance\n",
      "  warnings.warn(\n",
      "/work/mmarcheg/miniconda3/envs/coffea/lib/python3.9/site-packages/coffea/nanoevents/mapping/uproot.py:75: UserWarning: Found duplicate branch SubJet_nCHadrons in <TTree 'Events' (1574 branches) at 0x7ff7d48d6d60>, taking first instance\n",
      "  warnings.warn(\n"
     ]
    }
   ],
   "source": [
    "filename[\"2018_Pt-120to170\"] = \"/pnfs/psi.ch/cms/trivcat/store/user/mmarcheg/BTVNanoCommissioning/store/user/anovak/PFNano/106X_v2_18rsb2/QCD_Pt-120to170_MuEnrichedPt5_TuneCP5_13TeV_pythia8/RunIIAutumn18PFNanoAOD-102X_upgrade2018_realistic_v15_ext1-v2/210210_184545/0000/nano_mc2018_28.root\"\n",
    "filename[\"2018_Pt-170to300\"] = \"/pnfs/psi.ch/cms/trivcat/store/user/mmarcheg/BTVNanoCommissioning/store/user/anovak/PFNano/106X_v2_18rsb2/QCD_Pt-170to300_MuEnrichedPt5_TuneCP5_13TeV_pythia8/RunIIAutumn18PFNanoAOD-102X_upgrade2018_realistic_v15-v3/210210_184603/0000/nano_mc2018_138.root\"\n",
    "filename[\"2018_Pt-300to470\"] = \"/pnfs/psi.ch/cms/trivcat/store/user/mmarcheg/BTVNanoCommissioning/store/user/anovak/PFNano/106X_v2_18rsb2/QCD_Pt-300to470_MuEnrichedPt5_TuneCP5_13TeV_pythia8/RunIIAutumn18PFNanoAOD-102X_upgrade2018_realistic_v15_ext3-v1/210210_184642/0000/nano_mc2018_4.root\"\n",
    "filename[\"2018_Pt-470to600\"] = \"/pnfs/psi.ch/cms/trivcat/store/user/mmarcheg/BTVNanoCommissioning/store/user/anovak/PFNano/106X_v2_18rsb2/QCD_Pt-470to600_MuEnrichedPt5_TuneCP5_13TeV_pythia8/RunIIAutumn18PFNanoAOD-102X_upgrade2018_realistic_v15-v1/210210_184659/0000/nano_mc2018_1.root\"\n",
    "filename[\"2018_Pt-600to800\"] = \"/pnfs/psi.ch/cms/trivcat/store/user/mmarcheg/BTVNanoCommissioning/store/user/anovak/PFNano/106X_v2_18rsb2/QCD_Pt-600to800_MuEnrichedPt5_TuneCP5_13TeV_pythia8/RunIIAutumn18PFNanoAOD-102X_upgrade2018_realistic_v15-v1/210210_184738/0000/nano_mc2018_3.root\"\n",
    "filename[\"2018_Pt-800to1000\"] = \"/pnfs/psi.ch/cms/trivcat/store/user/mmarcheg/BTVNanoCommissioning/store/user/anovak/PFNano/106X_v2_18rsb2/QCD_Pt-800to1000_MuEnrichedPt5_TuneCP5_13TeV_pythia8/RunIIAutumn18PFNanoAOD-102X_upgrade2018_realistic_v15_ext3-v2/210210_184754/0000/nano_mc2018_29.root\"\n",
    "filename[\"2018_Pt-1000toInf\"] = \"/pnfs/psi.ch/cms/trivcat/store/user/mmarcheg/BTVNanoCommissioning/store/user/anovak/PFNano/106X_v2_18rsb2/QCD_Pt-1000toInf_MuEnrichedPt5_TuneCP5_13TeV_pythia8/RunIIAutumn18PFNanoAOD-102X_upgrade2018_realistic_v15-v1/210210_184811/0000/nano_mc2018_18.root\"\n",
    "\n",
    "for era, fname in filename.items():\n",
    "    if era in events: continue\n",
    "    events[era] = NanoEventsFactory.from_root(fname, schemaclass=NanoAODSchema).events()\n",
    "    print(era, \"nEvents=\", len(events[era]))"
   ]
  },
  {
   "cell_type": "code",
   "execution_count": 5,
   "id": "9b0e7d10",
   "metadata": {},
   "outputs": [
    {
     "name": "stdout",
     "output_type": "stream",
     "text": [
      "2018A ['BTagMu_AK4Jet300_Mu5', 'BTagMu_AK8Jet300_Mu5']\n",
      "2018B ['BTagMu_AK4Jet300_Mu5', 'BTagMu_AK8Jet300_Mu5']\n",
      "2018C ['BTagMu_AK4Jet300_Mu5', 'BTagMu_AK8Jet300_Mu5']\n",
      "2018D ['BTagMu_AK4Jet300_Mu5_noalgo', 'BTagMu_AK8Jet300_Mu5_noalgo']\n",
      "2018_Pt-120to170 ['BTagMu_AK4Jet300_Mu5', 'BTagMu_AK8Jet300_Mu5', 'BTagMu_AK4Jet300_Mu5_noalgo', 'BTagMu_AK8Jet300_Mu5_noalgo']\n",
      "2018_Pt-170to300 ['BTagMu_AK4Jet300_Mu5', 'BTagMu_AK8Jet300_Mu5', 'BTagMu_AK4Jet300_Mu5_noalgo', 'BTagMu_AK8Jet300_Mu5_noalgo']\n",
      "2018_Pt-300to470 ['BTagMu_AK4Jet300_Mu5', 'BTagMu_AK8Jet300_Mu5', 'BTagMu_AK4Jet300_Mu5_noalgo', 'BTagMu_AK8Jet300_Mu5_noalgo']\n",
      "2018_Pt-470to600 ['BTagMu_AK4Jet300_Mu5', 'BTagMu_AK8Jet300_Mu5', 'BTagMu_AK4Jet300_Mu5_noalgo', 'BTagMu_AK8Jet300_Mu5_noalgo']\n",
      "2018_Pt-600to800 ['BTagMu_AK4Jet300_Mu5', 'BTagMu_AK8Jet300_Mu5', 'BTagMu_AK4Jet300_Mu5_noalgo', 'BTagMu_AK8Jet300_Mu5_noalgo']\n",
      "2018_Pt-800to1000 ['BTagMu_AK4Jet300_Mu5', 'BTagMu_AK8Jet300_Mu5', 'BTagMu_AK4Jet300_Mu5_noalgo', 'BTagMu_AK8Jet300_Mu5_noalgo']\n",
      "2018_Pt-1000toInf ['BTagMu_AK4Jet300_Mu5', 'BTagMu_AK8Jet300_Mu5', 'BTagMu_AK4Jet300_Mu5_noalgo', 'BTagMu_AK8Jet300_Mu5_noalgo']\n"
     ]
    }
   ],
   "source": [
    "for era in filename.keys():\n",
    "    print(era, list(filter(lambda x : 'BTagMu_' in x and 'Jet300' in x, events[era].HLT.fields)))"
   ]
  },
  {
   "cell_type": "code",
   "execution_count": 6,
   "id": "e973c993",
   "metadata": {},
   "outputs": [
    {
     "name": "stdout",
     "output_type": "stream",
     "text": [
      "2016 nEvents= 22662\n"
     ]
    },
    {
     "name": "stderr",
     "output_type": "stream",
     "text": [
      "/work/mmarcheg/miniconda3/envs/coffea/lib/python3.9/site-packages/coffea/nanoevents/mapping/uproot.py:75: UserWarning: Found duplicate branch FatJet_btagDDBvLV2 in <TTree 'Events' (1304 branches) at 0x7ff7b27e3b50>, taking first instance\n",
      "  warnings.warn(\n",
      "/work/mmarcheg/miniconda3/envs/coffea/lib/python3.9/site-packages/coffea/nanoevents/mapping/uproot.py:75: UserWarning: Found duplicate branch FatJet_btagDDCvBV2 in <TTree 'Events' (1304 branches) at 0x7ff7b27e3b50>, taking first instance\n",
      "  warnings.warn(\n",
      "/work/mmarcheg/miniconda3/envs/coffea/lib/python3.9/site-packages/coffea/nanoevents/mapping/uproot.py:75: UserWarning: Found duplicate branch FatJet_btagDDCvLV2 in <TTree 'Events' (1304 branches) at 0x7ff7b27e3b50>, taking first instance\n",
      "  warnings.warn(\n"
     ]
    }
   ],
   "source": [
    "filename['2016'] = \"/pnfs/psi.ch/cms/trivcat/store/user/mmarcheg/BTVNanoCommissioning/store/user/anovak/PFNano/106X_v2_16rsb2/BTagMu/Run2016B-17Jul2018_ver2-v1_PFNanoAOD/210210_192407/0000/nano_data2016_168.root\"\n",
    "for era, fname in {'2016' : filename['2016']}.items():\n",
    "    events[era] = NanoEventsFactory.from_root(fname, schemaclass=NanoAODSchema).events()\n",
    "    print(era, \"nEvents=\", len(events[era]))"
   ]
  },
  {
   "cell_type": "code",
   "execution_count": 24,
   "id": "87301e27",
   "metadata": {},
   "outputs": [
    {
     "name": "stdout",
     "output_type": "stream",
     "text": [
      "2016 ['BTagMu_Jet300_Mu5']\n"
     ]
    }
   ],
   "source": [
    "for era, fname in {'2016' : filename['2016']}.items():\n",
    "    print(era, list(filter(lambda x : 'BTagMu_' in x and 'Jet300' in x, events[era].HLT.fields)))"
   ]
  },
  {
   "cell_type": "code",
   "execution_count": 25,
   "id": "560b7bb2",
   "metadata": {},
   "outputs": [
    {
     "data": {
      "text/plain": [
       "<Array [False, False, True, ... False, False] type='22662 * bool'>"
      ]
     },
     "execution_count": 25,
     "metadata": {},
     "output_type": "execute_result"
    }
   ],
   "source": [
    "pass_trigger = events['2016'].HLT.BTagMu_Jet300_Mu5 == True\n",
    "pass_trigger"
   ]
  },
  {
   "cell_type": "code",
   "execution_count": 26,
   "id": "e68a6a24",
   "metadata": {},
   "outputs": [],
   "source": [
    "jet_pt    = events['2016'].Jet.pt[pass_trigger]\n",
    "fatjet_pt = events['2016'].FatJet.pt[pass_trigger]"
   ]
  },
  {
   "cell_type": "code",
   "execution_count": 28,
   "id": "7e77d6a9",
   "metadata": {},
   "outputs": [
    {
     "data": {
      "image/png": "[encoded data removed]",
      "text/plain": [
       "<Figure size 864x576 with 1 Axes>"
      ]
     },
     "metadata": {
      "needs_background": "light"
     },
     "output_type": "display_data"
    }
   ],
   "source": [
    "plt.figure(figsize=(12,8))\n",
    "plt.hist(ak.flatten(jet_pt), bins=np.linspace(0,1000,101), histtype='step', label='AK4')\n",
    "plt.hist(ak.flatten(fatjet_pt), bins=np.linspace(0,1000,101), histtype='step', label='AK8');\n",
    "plt.yscale('log')\n",
    "plt.legend();"
   ]
  },
  {
   "cell_type": "code",
   "execution_count": 36,
   "id": "0d5b0ca9",
   "metadata": {},
   "outputs": [
    {
     "data": {
      "image/png": "[encoded data removed]",
      "text/plain": [
       "<Figure size 864x576 with 1 Axes>"
      ]
     },
     "metadata": {
      "needs_background": "light"
     },
     "output_type": "display_data"
    }
   ],
   "source": [
    "plt.figure(figsize=(12,8))\n",
    "plt.hist(ak.firsts(jet_pt), bins=np.linspace(0,1000,101), histtype='step', label='AK4')\n",
    "plt.hist(ak.firsts(fatjet_pt), bins=np.linspace(0,1000,101), histtype='step', label='AK8');\n",
    "plt.vlines(300, 0, 200, linestyle='--', color='gray', label=r'$p_T$=300')\n",
    "plt.yscale('log')\n",
    "plt.title('leading FatJet pt')\n",
    "plt.legend();"
   ]
  },
  {
   "cell_type": "code",
   "execution_count": null,
   "id": "30d35cbe",
   "metadata": {},
   "outputs": [],
   "source": []
  }
 ],
 "metadata": {
  "kernelspec": {
   "display_name": "Python 3 (ipykernel)",
   "language": "python",
   "name": "python3"
  },
  "language_info": {
   "codemirror_mode": {
    "name": "ipython",
    "version": 3
   },
   "file_extension": ".py",
   "mimetype": "text/x-python",
   "name": "python",
   "nbconvert_exporter": "python",
   "pygments_lexer": "ipython3",
   "version": "3.8.15"
  }
 },
 "nbformat": 4,
 "nbformat_minor": 5
}
