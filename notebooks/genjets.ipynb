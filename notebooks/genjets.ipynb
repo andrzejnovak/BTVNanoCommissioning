{
 "cells": [
  {
   "cell_type": "code",
   "execution_count": 2,
   "id": "3e1fac04",
   "metadata": {},
   "outputs": [
    {
     "name": "stderr",
     "output_type": "stream",
     "text": [
      "/work/mmarcheg/miniconda3/envs/pocket-coffea/lib/python3.8/site-packages/coffea/util.py:154: FutureWarning: In coffea version v0.8.0 (target date: 31 Dec 2022), this will be an error.\n",
      "(Set coffea.deprecations_as_errors = True to get a stack trace now.)\n",
      "ImportError: coffea.hist is deprecated\n",
      "  warnings.warn(message, FutureWarning)\n"
     ]
    }
   ],
   "source": [
    "from coffea.nanoevents import NanoEventsFactory, NanoAODSchema\n",
    "from coffea import hist, processor\n",
    "import numpy as np\n",
    "import awkward as ak\n",
    "import matplotlib.pyplot as plt"
   ]
  },
  {
   "cell_type": "code",
   "execution_count": 14,
   "id": "2cb199a5",
   "metadata": {},
   "outputs": [
    {
     "name": "stderr",
     "output_type": "stream",
     "text": [
      "/work/mmarcheg/miniconda3/envs/pocket-coffea/lib/python3.8/site-packages/coffea/nanoevents/mapping/uproot.py:86: UserWarning: Found duplicate branch FatJet_btagDDBvLV2 in <TTree 'Events' (1612 branches) at 0x7fbf1a3a6bb0>, taking first instance\n",
      "  warnings.warn(\n",
      "/work/mmarcheg/miniconda3/envs/pocket-coffea/lib/python3.8/site-packages/coffea/nanoevents/mapping/uproot.py:86: UserWarning: Found duplicate branch FatJet_btagDDCvBV2 in <TTree 'Events' (1612 branches) at 0x7fbf1a3a6bb0>, taking first instance\n",
      "  warnings.warn(\n",
      "/work/mmarcheg/miniconda3/envs/pocket-coffea/lib/python3.8/site-packages/coffea/nanoevents/mapping/uproot.py:86: UserWarning: Found duplicate branch FatJet_btagDDCvLV2 in <TTree 'Events' (1612 branches) at 0x7fbf1a3a6bb0>, taking first instance\n",
      "  warnings.warn(\n",
      "/work/mmarcheg/miniconda3/envs/pocket-coffea/lib/python3.8/site-packages/coffea/nanoevents/mapping/uproot.py:86: UserWarning: Found duplicate branch FatJet_nBHadrons in <TTree 'Events' (1612 branches) at 0x7fbf1a3a6bb0>, taking first instance\n",
      "  warnings.warn(\n",
      "/work/mmarcheg/miniconda3/envs/pocket-coffea/lib/python3.8/site-packages/coffea/nanoevents/mapping/uproot.py:86: UserWarning: Found duplicate branch FatJet_nCHadrons in <TTree 'Events' (1612 branches) at 0x7fbf1a3a6bb0>, taking first instance\n",
      "  warnings.warn(\n",
      "/work/mmarcheg/miniconda3/envs/pocket-coffea/lib/python3.8/site-packages/coffea/nanoevents/mapping/uproot.py:86: UserWarning: Found duplicate branch SubJet_nBHadrons in <TTree 'Events' (1612 branches) at 0x7fbf1a3a6bb0>, taking first instance\n",
      "  warnings.warn(\n",
      "/work/mmarcheg/miniconda3/envs/pocket-coffea/lib/python3.8/site-packages/coffea/nanoevents/mapping/uproot.py:86: UserWarning: Found duplicate branch SubJet_nCHadrons in <TTree 'Events' (1612 branches) at 0x7fbf1a3a6bb0>, taking first instance\n",
      "  warnings.warn(\n"
     ]
    }
   ],
   "source": [
    "filename = \"/pnfs/psi.ch/cms/trivcat/store/user/mmarcheg/BTVNanoCommissioning/store/user/mmarcheg/PFNano/QCD_Pt-170To300_MuEnrichedPt5_TuneCP5_13TeV-pythia8/RunIISummer20UL16PreVFP-v01-106X_mcRun2_asymptotic_v17-v1/220311_144646/0000/nano_mc2016pre_162.root\"\n",
    "#filename = \"/pnfs/psi.ch/cms/trivcat/store/user/mmarcheg/BTVNanoCommissioning/store/user/mmarcheg/PFNano/QCD_Pt-1000_MuEnrichedPt5_TuneCP5_13TeV-pythia8/RunIISummer20UL16PreVFP-106X_mcRun2_asymptotic_v17-v1/211213_173836/0000/nano_mc2016pre_3-7.root\"\n",
    "events = NanoEventsFactory.from_root(filename, schemaclass=NanoAODSchema, entry_stop=10000).events()"
   ]
  },
  {
   "cell_type": "code",
   "execution_count": 25,
   "id": "b83bea12",
   "metadata": {},
   "outputs": [
    {
     "data": {
      "text/plain": [
       "['GenJet', 'GenJetAK8', 'GenJetSVs', 'SubGenJetAK8', 'GenJetCands']"
      ]
     },
     "execution_count": 25,
     "metadata": {},
     "output_type": "execute_result"
    }
   ],
   "source": [
    "list(filter(lambda x : 'GenJet' in x, events.fields))"
   ]
  },
  {
   "cell_type": "code",
   "execution_count": 24,
   "id": "9020c0e8",
   "metadata": {},
   "outputs": [
    {
     "data": {
      "text/plain": [
       "['genJetAK8Idx', 'genJetAK8IdxG']"
      ]
     },
     "execution_count": 24,
     "metadata": {},
     "output_type": "execute_result"
    }
   ],
   "source": [
    "list(filter(lambda x : 'JetAK8' in x, events.FatJet.fields))"
   ]
  },
  {
   "cell_type": "code",
   "execution_count": 26,
   "id": "c22d1818",
   "metadata": {},
   "outputs": [
    {
     "data": {
      "text/plain": [
       "['genJetIdx', 'genJetIdxG']"
      ]
     },
     "execution_count": 26,
     "metadata": {},
     "output_type": "execute_result"
    }
   ],
   "source": [
    "list(filter(lambda x : 'Jet' in x, events.Jet.fields))"
   ]
  },
  {
   "cell_type": "code",
   "execution_count": 19,
   "id": "55ce02b8",
   "metadata": {},
   "outputs": [
    {
     "data": {
      "text/plain": [
       "['area',\n",
       " 'btagCSVV2',\n",
       " 'btagDDBvLV2',\n",
       " 'btagDDCvBV2',\n",
       " 'btagDDCvLV2',\n",
       " 'btagDeepB',\n",
       " 'btagHbb',\n",
       " 'deepTagMD_H4qvsQCD',\n",
       " 'deepTagMD_HbbvsQCD',\n",
       " 'deepTagMD_TvsQCD',\n",
       " 'deepTagMD_WvsQCD',\n",
       " 'deepTagMD_ZHbbvsQCD',\n",
       " 'deepTagMD_ZHccvsQCD',\n",
       " 'deepTagMD_ZbbvsQCD',\n",
       " 'deepTagMD_ZvsQCD',\n",
       " 'deepTagMD_bbvsLight',\n",
       " 'deepTagMD_ccvsLight',\n",
       " 'deepTag_H',\n",
       " 'deepTag_QCD',\n",
       " 'deepTag_QCDothers',\n",
       " 'deepTag_TvsQCD',\n",
       " 'deepTag_WvsQCD',\n",
       " 'deepTag_ZvsQCD',\n",
       " 'eta',\n",
       " 'mass',\n",
       " 'msoftdrop',\n",
       " 'n2b1',\n",
       " 'n3b1',\n",
       " 'particleNetMD_QCD',\n",
       " 'particleNetMD_Xbb',\n",
       " 'particleNetMD_Xcc',\n",
       " 'particleNetMD_Xqq',\n",
       " 'particleNet_H4qvsQCD',\n",
       " 'particleNet_HbbvsQCD',\n",
       " 'particleNet_HccvsQCD',\n",
       " 'particleNet_QCD',\n",
       " 'particleNet_TvsQCD',\n",
       " 'particleNet_WvsQCD',\n",
       " 'particleNet_ZvsQCD',\n",
       " 'particleNet_mass',\n",
       " 'phi',\n",
       " 'pt',\n",
       " 'rawFactor',\n",
       " 'tau1',\n",
       " 'tau2',\n",
       " 'tau3',\n",
       " 'tau4',\n",
       " 'lsf3',\n",
       " 'jetId',\n",
       " 'subJetIdx1',\n",
       " 'subJetIdx2',\n",
       " 'electronIdx3SJ',\n",
       " 'muonIdx3SJ',\n",
       " 'nConstituents',\n",
       " 'DDX_tau1_flightDistance2dSig',\n",
       " 'DDX_tau1_trackEtaRel_0',\n",
       " 'DDX_tau1_trackEtaRel_1',\n",
       " 'DDX_tau1_trackEtaRel_2',\n",
       " 'DDX_tau1_trackSip3dSig_0',\n",
       " 'DDX_tau1_trackSip3dSig_1',\n",
       " 'DDX_tau1_vertexDeltaR',\n",
       " 'DDX_tau1_vertexEnergyRatio',\n",
       " 'DDX_tau1_vertexMass',\n",
       " 'DDX_tau2_flightDistance2dSig',\n",
       " 'DDX_tau2_trackEtaRel_0',\n",
       " 'DDX_tau2_trackEtaRel_1',\n",
       " 'DDX_tau2_trackEtaRel_3',\n",
       " 'DDX_tau2_trackSip3dSig_0',\n",
       " 'DDX_tau2_trackSip3dSig_1',\n",
       " 'DDX_tau2_vertexEnergyRatio',\n",
       " 'DDX_tau2_vertexMass',\n",
       " 'DDX_trackSip2dSigAboveBottom_0',\n",
       " 'DDX_trackSip2dSigAboveBottom_1',\n",
       " 'DDX_trackSip2dSigAboveCharm',\n",
       " 'DDX_trackSip3dSig_0',\n",
       " 'DDX_trackSip3dSig_1',\n",
       " 'DDX_trackSip3dSig_2',\n",
       " 'DDX_trackSip3dSig_3',\n",
       " 'DDX_z_ratio',\n",
       " 'Proba',\n",
       " 'btagDeepB_b',\n",
       " 'btagDeepB_bb',\n",
       " 'btagDeepL',\n",
       " 'DDX_jetNSecondaryVertices',\n",
       " 'DDX_jetNTracks',\n",
       " 'nBHadrons',\n",
       " 'nCHadrons',\n",
       " 'genJetAK8Idx',\n",
       " 'hadronFlavour',\n",
       " 'genJetAK8IdxG',\n",
       " 'subJetIdx1G',\n",
       " 'subJetIdx2G',\n",
       " 'subJetIdxG',\n",
       " 'pFCandsIdxG']"
      ]
     },
     "execution_count": 19,
     "metadata": {},
     "output_type": "execute_result"
    }
   ],
   "source": [
    "events.FatJet.fields"
   ]
  },
  {
   "cell_type": "code",
   "execution_count": null,
   "id": "d287da1a",
   "metadata": {},
   "outputs": [],
   "source": []
  }
 ],
 "metadata": {
  "kernelspec": {
   "display_name": "Python 3 (ipykernel)",
   "language": "python",
   "name": "python3"
  },
  "language_info": {
   "codemirror_mode": {
    "name": "ipython",
    "version": 3
   },
   "file_extension": ".py",
   "mimetype": "text/x-python",
   "name": "python",
   "nbconvert_exporter": "python",
   "pygments_lexer": "ipython3",
   "version": "3.8.15"
  }
 },
 "nbformat": 4,
 "nbformat_minor": 5
}
