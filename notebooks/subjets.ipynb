{
 "cells": [
  {
   "cell_type": "code",
   "execution_count": 1,
   "id": "3e1fac04",
   "metadata": {},
   "outputs": [
    {
     "name": "stderr",
     "output_type": "stream",
     "text": [
      "/work/mmarcheg/miniconda3/envs/pocket-coffea/lib/python3.8/site-packages/coffea/util.py:154: FutureWarning: In coffea version v0.8.0 (target date: 31 Dec 2022), this will be an error.\n",
      "(Set coffea.deprecations_as_errors = True to get a stack trace now.)\n",
      "ImportError: coffea.hist is deprecated\n",
      "  warnings.warn(message, FutureWarning)\n"
     ]
    }
   ],
   "source": [
    "from coffea.nanoevents import NanoEventsFactory, NanoAODSchema\n",
    "from coffea import hist, processor\n",
    "import numpy as np\n",
    "import awkward as ak\n",
    "import matplotlib.pyplot as plt"
   ]
  },
  {
   "cell_type": "code",
   "execution_count": 2,
   "id": "2cb199a5",
   "metadata": {},
   "outputs": [
    {
     "name": "stderr",
     "output_type": "stream",
     "text": [
      "/work/mmarcheg/miniconda3/envs/pocket-coffea/lib/python3.8/site-packages/coffea/nanoevents/mapping/uproot.py:86: UserWarning: Found duplicate branch FatJet_btagDDBvLV2 in <TTree 'Events' (1682 branches) at 0x7f8a74fef490>, taking first instance\n",
      "  warnings.warn(\n",
      "/work/mmarcheg/miniconda3/envs/pocket-coffea/lib/python3.8/site-packages/coffea/nanoevents/mapping/uproot.py:86: UserWarning: Found duplicate branch FatJet_btagDDCvBV2 in <TTree 'Events' (1682 branches) at 0x7f8a74fef490>, taking first instance\n",
      "  warnings.warn(\n",
      "/work/mmarcheg/miniconda3/envs/pocket-coffea/lib/python3.8/site-packages/coffea/nanoevents/mapping/uproot.py:86: UserWarning: Found duplicate branch FatJet_btagDDCvLV2 in <TTree 'Events' (1682 branches) at 0x7f8a74fef490>, taking first instance\n",
      "  warnings.warn(\n"
     ]
    },
    {
     "name": "stdout",
     "output_type": "stream",
     "text": [
      "2018A nEvents= 21650\n"
     ]
    },
    {
     "name": "stderr",
     "output_type": "stream",
     "text": [
      "/work/mmarcheg/miniconda3/envs/pocket-coffea/lib/python3.8/site-packages/coffea/nanoevents/mapping/uproot.py:86: UserWarning: Found duplicate branch FatJet_btagDDBvLV2 in <TTree 'Events' (1425 branches) at 0x7f88f204a3a0>, taking first instance\n",
      "  warnings.warn(\n",
      "/work/mmarcheg/miniconda3/envs/pocket-coffea/lib/python3.8/site-packages/coffea/nanoevents/mapping/uproot.py:86: UserWarning: Found duplicate branch FatJet_btagDDCvBV2 in <TTree 'Events' (1425 branches) at 0x7f88f204a3a0>, taking first instance\n",
      "  warnings.warn(\n",
      "/work/mmarcheg/miniconda3/envs/pocket-coffea/lib/python3.8/site-packages/coffea/nanoevents/mapping/uproot.py:86: UserWarning: Found duplicate branch FatJet_btagDDCvLV2 in <TTree 'Events' (1425 branches) at 0x7f88f204a3a0>, taking first instance\n",
      "  warnings.warn(\n"
     ]
    },
    {
     "name": "stdout",
     "output_type": "stream",
     "text": [
      "2018B nEvents= 15556\n"
     ]
    },
    {
     "name": "stderr",
     "output_type": "stream",
     "text": [
      "/work/mmarcheg/miniconda3/envs/pocket-coffea/lib/python3.8/site-packages/coffea/nanoevents/mapping/uproot.py:86: UserWarning: Found duplicate branch FatJet_btagDDBvLV2 in <TTree 'Events' (1455 branches) at 0x7f88ef7f8730>, taking first instance\n",
      "  warnings.warn(\n",
      "/work/mmarcheg/miniconda3/envs/pocket-coffea/lib/python3.8/site-packages/coffea/nanoevents/mapping/uproot.py:86: UserWarning: Found duplicate branch FatJet_btagDDCvBV2 in <TTree 'Events' (1455 branches) at 0x7f88ef7f8730>, taking first instance\n",
      "  warnings.warn(\n",
      "/work/mmarcheg/miniconda3/envs/pocket-coffea/lib/python3.8/site-packages/coffea/nanoevents/mapping/uproot.py:86: UserWarning: Found duplicate branch FatJet_btagDDCvLV2 in <TTree 'Events' (1455 branches) at 0x7f88ef7f8730>, taking first instance\n",
      "  warnings.warn(\n"
     ]
    },
    {
     "name": "stdout",
     "output_type": "stream",
     "text": [
      "2018C nEvents= 22394\n",
      "2018D nEvents= 24919\n"
     ]
    },
    {
     "name": "stderr",
     "output_type": "stream",
     "text": [
      "/work/mmarcheg/miniconda3/envs/pocket-coffea/lib/python3.8/site-packages/coffea/nanoevents/mapping/uproot.py:86: UserWarning: Found duplicate branch FatJet_btagDDBvLV2 in <TTree 'Events' (1480 branches) at 0x7f88ecb2c220>, taking first instance\n",
      "  warnings.warn(\n",
      "/work/mmarcheg/miniconda3/envs/pocket-coffea/lib/python3.8/site-packages/coffea/nanoevents/mapping/uproot.py:86: UserWarning: Found duplicate branch FatJet_btagDDCvBV2 in <TTree 'Events' (1480 branches) at 0x7f88ecb2c220>, taking first instance\n",
      "  warnings.warn(\n",
      "/work/mmarcheg/miniconda3/envs/pocket-coffea/lib/python3.8/site-packages/coffea/nanoevents/mapping/uproot.py:86: UserWarning: Found duplicate branch FatJet_btagDDCvLV2 in <TTree 'Events' (1480 branches) at 0x7f88ecb2c220>, taking first instance\n",
      "  warnings.warn(\n"
     ]
    }
   ],
   "source": [
    "filename = {}\n",
    "filename['2018A'] = \"/pnfs/psi.ch/cms/trivcat/store/user/mmarcheg/BTVNanoCommissioning/store/user/anovak/PFNano/106X_v2_18rsb2/BTagMu/Run2018A-17Sep2018-v1_PFNanoAOD/210210_185436/0000/nano_data2018abc_46.root\"\n",
    "filename['2018B'] = \"/pnfs/psi.ch/cms/trivcat/store/user/mmarcheg/BTVNanoCommissioning/store/user/anovak/PFNano/106X_v2_18rsb2/BTagMu/Run2018B-17Sep2018-v1_PFNanoAOD/210210_185453/0000/nano_data2018abc_19.root\"\n",
    "filename['2018C'] = \"/pnfs/psi.ch/cms/trivcat/store/user/mmarcheg/BTVNanoCommissioning/store/user/anovak/PFNano/106X_v2_18rsb2/BTagMu/Run2018C-17Sep2018-v1_PFNanoAOD/210210_185511/0000/nano_data2018abc_417.root\"\n",
    "filename['2018D'] = \"/pnfs/psi.ch/cms/trivcat/store/user/mmarcheg/BTVNanoCommissioning/store/user/anovak/PFNano/106X_v2_18rsb2/BTagMu/Run2018D-PromptReco-v2_PFNanoAOD/210210_192246/0000/nano_data2018d_47.root\"\n",
    "events = {}\n",
    "for era, fname in filename.items():\n",
    "    events[era] = NanoEventsFactory.from_root(fname, schemaclass=NanoAODSchema).events()\n",
    "    print(era, \"nEvents=\", len(events[era]))"
   ]
  },
  {
   "cell_type": "code",
   "execution_count": 3,
   "id": "30d35cbe",
   "metadata": {},
   "outputs": [
    {
     "data": {
      "text/plain": [
       "['IsoTrack',\n",
       " 'SoftActivityJetNjets2',\n",
       " 'FatJet',\n",
       " 'Tau',\n",
       " 'fixedGridRhoFastjetCentral',\n",
       " 'MET',\n",
       " 'fixedGridRhoFastjetCentralChargedPileUp',\n",
       " 'fixedGridRhoFastjetCentralNeutral',\n",
       " 'SoftActivityJetHT10',\n",
       " 'SV',\n",
       " 'SoftActivityJetHT2',\n",
       " 'SoftActivityJetNjets5',\n",
       " 'SubJet',\n",
       " 'RawPuppiMET',\n",
       " 'DeepMETResolutionTune',\n",
       " 'Photon',\n",
       " 'Jet',\n",
       " 'FsrPhoton',\n",
       " 'run',\n",
       " 'fixedGridRhoFastjetCentralCalo',\n",
       " 'SoftActivityJetHT5',\n",
       " 'Electron',\n",
       " 'PV',\n",
       " 'CorrT1METJet',\n",
       " 'TkMET',\n",
       " 'DeepMETResponseTune',\n",
       " 'L1Reco',\n",
       " 'HLTriggerFirstPath',\n",
       " 'ChsMET',\n",
       " 'SoftActivityJetNjets10',\n",
       " 'SoftActivityJet',\n",
       " 'L1',\n",
       " 'CaloMET',\n",
       " 'TrigObj',\n",
       " 'Flag',\n",
       " 'luminosityBlock',\n",
       " 'PuppiMET',\n",
       " 'OtherPV',\n",
       " 'HLT',\n",
       " 'Muon',\n",
       " 'HLTriggerFinalPath',\n",
       " 'SoftActivityJetHT',\n",
       " 'event',\n",
       " 'fixedGridRhoFastjetAll',\n",
       " 'RawMET']"
      ]
     },
     "execution_count": 3,
     "metadata": {},
     "output_type": "execute_result"
    }
   ],
   "source": [
    "e = events[\"2018A\"]\n",
    "e.fields"
   ]
  },
  {
   "cell_type": "code",
   "execution_count": 4,
   "id": "b83bea12",
   "metadata": {},
   "outputs": [
    {
     "data": {
      "text/plain": [
       "<Array [[[194, 25.2], ... [264, 47.4]]] type='8109 * var * var * ?float32[parame...'>"
      ]
     },
     "execution_count": 4,
     "metadata": {},
     "output_type": "execute_result"
    }
   ],
   "source": [
    "e = e[ak.num(e.FatJet.pt) > 0]\n",
    "e = e[ak.all(ak.count(e.FatJet.subjets.pt, axis=2) > 1, axis=1)]\n",
    "e.FatJet.subjets.pt"
   ]
  },
  {
   "cell_type": "code",
   "execution_count": 5,
   "id": "43c2c160",
   "metadata": {},
   "outputs": [
    {
     "data": {
      "image/png": "[encoded data removed]",
      "text/plain": [
       "<Figure size 640x480 with 1 Axes>"
      ]
     },
     "metadata": {},
     "output_type": "display_data"
    }
   ],
   "source": [
    "plt.hist(ak.num(e.FatJet.pt), bins=10, range=(0,10));"
   ]
  },
  {
   "cell_type": "code",
   "execution_count": 6,
   "id": "716142d6",
   "metadata": {},
   "outputs": [
    {
     "data": {
      "text/plain": [
       "[[271.0, 228.125], [337.25, 276.5], [387.5, 272.25], [268.5, 254.625]]"
      ]
     },
     "execution_count": 6,
     "metadata": {},
     "output_type": "execute_result"
    }
   ],
   "source": [
    "# FatJets\n",
    "e.FatJet.pt[:4].tolist()"
   ]
  },
  {
   "cell_type": "code",
   "execution_count": 7,
   "id": "609df97e",
   "metadata": {},
   "outputs": [
    {
     "data": {
      "text/plain": [
       "[[[194.5, 25.234375], [199.0, 28.5]],\n",
       " [[202.0, 79.9375], [199.0, 74.375]],\n",
       " [[305.75, 60.71875], [155.875, 101.4375]],\n",
       " [[179.875, 86.8125], [184.75, 41.65625]]]"
      ]
     },
     "execution_count": 7,
     "metadata": {},
     "output_type": "execute_result"
    }
   ],
   "source": [
    "# Subjets of all FatJets\n",
    "e.FatJet.subjets.pt[:4].tolist()"
   ]
  },
  {
   "cell_type": "code",
   "execution_count": 8,
   "id": "7fe17474",
   "metadata": {},
   "outputs": [
    {
     "data": {
      "text/plain": [
       "[[194.5, 199.0], [202.0, 199.0], [305.75, 155.875], [179.875, 184.75]]"
      ]
     },
     "execution_count": 8,
     "metadata": {},
     "output_type": "execute_result"
    }
   ],
   "source": [
    "# Leading subjet of all FatJets\n",
    "e.FatJet.subjets.pt[:4][:,:,0].tolist()"
   ]
  },
  {
   "cell_type": "code",
   "execution_count": 9,
   "id": "1057d970",
   "metadata": {},
   "outputs": [
    {
     "data": {
      "text/plain": [
       "[[25.234375, 28.5],\n",
       " [79.9375, 74.375],\n",
       " [60.71875, 101.4375],\n",
       " [86.8125, 41.65625]]"
      ]
     },
     "execution_count": 9,
     "metadata": {},
     "output_type": "execute_result"
    }
   ],
   "source": [
    "# Sub-leading subjet of all FatJets\n",
    "e.FatJet.subjets.pt[:4][:,:,1].tolist()"
   ]
  },
  {
   "cell_type": "code",
   "execution_count": 10,
   "id": "8c9ef34f",
   "metadata": {},
   "outputs": [
    {
     "data": {
      "text/plain": [
       "[194.5, 202.0, 305.75, 179.875]"
      ]
     },
     "execution_count": 10,
     "metadata": {},
     "output_type": "execute_result"
    }
   ],
   "source": [
    "# Leading subjet of leading FatJet\n",
    "e.FatJet.subjets.pt[:4][:,0,0].tolist()"
   ]
  },
  {
   "cell_type": "code",
   "execution_count": 11,
   "id": "86be121a",
   "metadata": {},
   "outputs": [
    {
     "data": {
      "text/plain": [
       "[199.0, 199.0, 155.875, 184.75]"
      ]
     },
     "execution_count": 11,
     "metadata": {},
     "output_type": "execute_result"
    }
   ],
   "source": [
    "# Leading subjet of sub-leading FatJet\n",
    "e.FatJet.subjets.pt[:4][:,1,0].tolist()"
   ]
  },
  {
   "cell_type": "code",
   "execution_count": 12,
   "id": "b4ea87ca",
   "metadata": {},
   "outputs": [
    {
     "data": {
      "text/plain": [
       "<Array [4, 4, 6, 0, 1, 2, ... 2, 3, 5, 3, 6, 5] type='8109 * int64'>"
      ]
     },
     "execution_count": 12,
     "metadata": {},
     "output_type": "execute_result"
    }
   ],
   "source": [
    "ak.num(e.SV.pt)"
   ]
  },
  {
   "cell_type": "code",
   "execution_count": 13,
   "id": "755d4fed",
   "metadata": {},
   "outputs": [
    {
     "data": {
      "text/plain": [
       "[[194.5, 199.0], [202.0, 199.0], [305.75, 155.875], [179.875, 184.75]]"
      ]
     },
     "execution_count": 13,
     "metadata": {},
     "output_type": "execute_result"
    }
   ],
   "source": [
    "sj1 = e.FatJet.subjets[:4][:,:,0]\n",
    "sj1.pt.tolist()"
   ]
  },
  {
   "cell_type": "code",
   "execution_count": 14,
   "id": "a616d34b",
   "metadata": {},
   "outputs": [
    {
     "data": {
      "text/plain": [
       "[[63.0625, 39.53125, 140.375, 26.625],\n",
       " [2.00390625, 30.578125, 22.125, 3.546875],\n",
       " [2.560546875, 28.90625, 11.0234375, 7.2421875, 12.21875, 7.34375],\n",
       " []]"
      ]
     },
     "execution_count": 14,
     "metadata": {},
     "output_type": "execute_result"
    }
   ],
   "source": [
    "e.SV.pt[:4].tolist()"
   ]
  },
  {
   "cell_type": "code",
   "execution_count": 15,
   "id": "4736b7f1",
   "metadata": {},
   "outputs": [
    {
     "data": {
      "text/plain": [
       "<Array [[194, 199], [202, ... 156], [180, 185]] type='4 * var * ?float32[paramet...'>"
      ]
     },
     "execution_count": 15,
     "metadata": {},
     "output_type": "execute_result"
    }
   ],
   "source": [
    "sj1.pt"
   ]
  },
  {
   "cell_type": "code",
   "execution_count": 16,
   "id": "aad2c077",
   "metadata": {},
   "outputs": [
    {
     "data": {
      "text/plain": [
       "False"
      ]
     },
     "execution_count": 16,
     "metadata": {},
     "output_type": "execute_result"
    }
   ],
   "source": [
    "ak.any(ak.num(sj1) < 2)"
   ]
  },
  {
   "cell_type": "code",
   "execution_count": 17,
   "id": "000239c0",
   "metadata": {},
   "outputs": [
    {
     "data": {
      "text/plain": [
       "<Array [[1, 4], [2, 5], [3, 6]] type='3 * var * int64'>"
      ]
     },
     "execution_count": 17,
     "metadata": {},
     "output_type": "execute_result"
    }
   ],
   "source": [
    "x = ak.Array([[1],[2],[3]])\n",
    "y = ak.Array([[4],[5],[6]])\n",
    "ak.concatenate((x,y), axis=1)"
   ]
  },
  {
   "cell_type": "code",
   "execution_count": 18,
   "id": "45f0b962",
   "metadata": {},
   "outputs": [
    {
     "data": {
      "text/plain": [
       "<Array [None, [4.01], [], ... [], [], []] type='21650 * option[var * float32]'>"
      ]
     },
     "execution_count": 18,
     "metadata": {},
     "output_type": "execute_result"
    }
   ],
   "source": [
    "ak.pad_none(events['2018A'].FatJet,1)[:,0].delta_r(events['2018A'].Electron)"
   ]
  },
  {
   "cell_type": "code",
   "execution_count": 19,
   "id": "bc70140c",
   "metadata": {},
   "outputs": [
    {
     "data": {
      "text/plain": [
       "<FatJetArray [[None], [FatJet, ... [FatJet, FatJet]] type='21650 * var * ?fatJet'>"
      ]
     },
     "execution_count": 19,
     "metadata": {},
     "output_type": "execute_result"
    }
   ],
   "source": [
    "ak.pad_none(events['2018A'].FatJet,1)"
   ]
  },
  {
   "cell_type": "code",
   "execution_count": 20,
   "id": "e2d9c86a",
   "metadata": {},
   "outputs": [
    {
     "data": {
      "text/plain": [
       "<Array [[10], [20], [None]] type='3 * var * ?int64'>"
      ]
     },
     "execution_count": 20,
     "metadata": {},
     "output_type": "execute_result"
    }
   ],
   "source": [
    "x = ak.Array([[10],[20],[None]])\n",
    "x"
   ]
  },
  {
   "cell_type": "code",
   "execution_count": 21,
   "id": "cb5cfb20",
   "metadata": {},
   "outputs": [
    {
     "data": {
      "text/plain": [
       "<Array [[1], [1], [0]] type='3 * 1 * int64'>"
      ]
     },
     "execution_count": 21,
     "metadata": {},
     "output_type": "execute_result"
    }
   ],
   "source": [
    "ak.unflatten(ak.count(x, axis=1), counts=1)"
   ]
  },
  {
   "cell_type": "code",
   "execution_count": 22,
   "id": "f1166ddb",
   "metadata": {},
   "outputs": [
    {
     "data": {
      "text/plain": [
       "<Array [[1, 1.19], [1, ... 1.07], [1, 1.07]] type='8109 * var * float32'>"
      ]
     },
     "execution_count": 22,
     "metadata": {},
     "output_type": "execute_result"
    }
   ],
   "source": [
    "e.FatJet.pt[:,0]/e.FatJet.pt"
   ]
  },
  {
   "cell_type": "code",
   "execution_count": 23,
   "id": "e7e840c0",
   "metadata": {},
   "outputs": [
    {
     "data": {
      "text/plain": [
       "['area',\n",
       " 'btagCMVA',\n",
       " 'btagCSVV2',\n",
       " 'btagDDBvL',\n",
       " 'btagDDBvLV2',\n",
       " 'btagDDBvL_noMD',\n",
       " 'btagDDCvB',\n",
       " 'btagDDCvBV2',\n",
       " 'btagDDCvB_noMD',\n",
       " 'btagDDCvL',\n",
       " 'btagDDCvLV2',\n",
       " 'btagDDCvL_noMD',\n",
       " 'btagDeepB',\n",
       " 'btagHbb',\n",
       " 'deepTagMD_H4qvsQCD',\n",
       " 'deepTagMD_HbbvsQCD',\n",
       " 'deepTagMD_TvsQCD',\n",
       " 'deepTagMD_WvsQCD',\n",
       " 'deepTagMD_ZHbbvsQCD',\n",
       " 'deepTagMD_ZHccvsQCD',\n",
       " 'deepTagMD_ZbbvsQCD',\n",
       " 'deepTagMD_ZvsQCD',\n",
       " 'deepTagMD_bbvsLight',\n",
       " 'deepTagMD_ccvsLight',\n",
       " 'deepTag_H',\n",
       " 'deepTag_QCD',\n",
       " 'deepTag_QCDothers',\n",
       " 'deepTag_TvsQCD',\n",
       " 'deepTag_WvsQCD',\n",
       " 'deepTag_ZvsQCD',\n",
       " 'eta',\n",
       " 'mass',\n",
       " 'msoftdrop',\n",
       " 'n2b1',\n",
       " 'n3b1',\n",
       " 'particleNetMD_QCD',\n",
       " 'particleNetMD_Xbb',\n",
       " 'particleNetMD_Xcc',\n",
       " 'particleNetMD_Xqq',\n",
       " 'particleNet_H4qvsQCD',\n",
       " 'particleNet_HbbvsQCD',\n",
       " 'particleNet_HccvsQCD',\n",
       " 'particleNet_QCD',\n",
       " 'particleNet_TvsQCD',\n",
       " 'particleNet_WvsQCD',\n",
       " 'particleNet_ZvsQCD',\n",
       " 'phi',\n",
       " 'pt',\n",
       " 'rawFactor',\n",
       " 'tau1',\n",
       " 'tau2',\n",
       " 'tau3',\n",
       " 'tau4',\n",
       " 'lsf3',\n",
       " 'jetId',\n",
       " 'subJetIdx1',\n",
       " 'subJetIdx2',\n",
       " 'electronIdx3SJ',\n",
       " 'muonIdx3SJ',\n",
       " 'Proba',\n",
       " 'btagDeepB_b',\n",
       " 'btagDeepB_bb',\n",
       " 'btagDeepL',\n",
       " 'nBHadrons',\n",
       " 'nCHadrons',\n",
       " 'subJetIdx1G',\n",
       " 'subJetIdx2G',\n",
       " 'subJetIdxG']"
      ]
     },
     "execution_count": 23,
     "metadata": {},
     "output_type": "execute_result"
    }
   ],
   "source": [
    "e.FatJet.fields"
   ]
  },
  {
   "cell_type": "code",
   "execution_count": 26,
   "id": "b4de5c6c",
   "metadata": {},
   "outputs": [
    {
     "data": {
      "text/plain": [
       "[]"
      ]
     },
     "execution_count": 26,
     "metadata": {},
     "output_type": "execute_result"
    }
   ],
   "source": [
    "list(filter(lambda x : 'Gen' in x, e.Jet.fields))"
   ]
  },
  {
   "cell_type": "code",
   "execution_count": null,
   "id": "9020c0e8",
   "metadata": {},
   "outputs": [],
   "source": []
  }
 ],
 "metadata": {
  "kernelspec": {
   "display_name": "Python 3 (ipykernel)",
   "language": "python",
   "name": "python3"
  },
  "language_info": {
   "codemirror_mode": {
    "name": "ipython",
    "version": 3
   },
   "file_extension": ".py",
   "mimetype": "text/x-python",
   "name": "python",
   "nbconvert_exporter": "python",
   "pygments_lexer": "ipython3",
   "version": "3.8.15"
  }
 },
 "nbformat": 4,
 "nbformat_minor": 5
}
