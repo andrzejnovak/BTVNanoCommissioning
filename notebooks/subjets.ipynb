{
 "cells": [
  {
   "cell_type": "code",
   "execution_count": 1,
   "id": "3e1fac04",
   "metadata": {},
   "outputs": [
    {
     "name": "stderr",
     "output_type": "stream",
     "text": [
      "/work/mmarcheg/miniconda3/envs/pocket-coffea/lib/python3.8/site-packages/coffea/util.py:154: FutureWarning: In coffea version v0.8.0 (target date: 31 Dec 2022), this will be an error.\n",
      "(Set coffea.deprecations_as_errors = True to get a stack trace now.)\n",
      "ImportError: coffea.hist is deprecated\n",
      "  warnings.warn(message, FutureWarning)\n"
     ]
    }
   ],
   "source": [
    "from coffea.nanoevents import NanoEventsFactory, NanoAODSchema\n",
    "from coffea import hist, processor\n",
    "import numpy as np\n",
    "import awkward as ak\n",
    "import matplotlib.pyplot as plt"
   ]
  },
  {
   "cell_type": "code",
   "execution_count": 2,
   "id": "2cb199a5",
   "metadata": {},
   "outputs": [
    {
     "name": "stderr",
     "output_type": "stream",
     "text": [
      "/work/mmarcheg/miniconda3/envs/pocket-coffea/lib/python3.8/site-packages/coffea/nanoevents/mapping/uproot.py:86: UserWarning: Found duplicate branch FatJet_btagDDBvLV2 in <TTree 'Events' (1682 branches) at 0x7f5b8c1875e0>, taking first instance\n",
      "  warnings.warn(\n",
      "/work/mmarcheg/miniconda3/envs/pocket-coffea/lib/python3.8/site-packages/coffea/nanoevents/mapping/uproot.py:86: UserWarning: Found duplicate branch FatJet_btagDDCvBV2 in <TTree 'Events' (1682 branches) at 0x7f5b8c1875e0>, taking first instance\n",
      "  warnings.warn(\n",
      "/work/mmarcheg/miniconda3/envs/pocket-coffea/lib/python3.8/site-packages/coffea/nanoevents/mapping/uproot.py:86: UserWarning: Found duplicate branch FatJet_btagDDCvLV2 in <TTree 'Events' (1682 branches) at 0x7f5b8c1875e0>, taking first instance\n",
      "  warnings.warn(\n"
     ]
    },
    {
     "name": "stdout",
     "output_type": "stream",
     "text": [
      "2018A nEvents= 21650\n"
     ]
    },
    {
     "name": "stderr",
     "output_type": "stream",
     "text": [
      "/work/mmarcheg/miniconda3/envs/pocket-coffea/lib/python3.8/site-packages/coffea/nanoevents/mapping/uproot.py:86: UserWarning: Found duplicate branch FatJet_btagDDBvLV2 in <TTree 'Events' (1425 branches) at 0x7f5a081b9f70>, taking first instance\n",
      "  warnings.warn(\n",
      "/work/mmarcheg/miniconda3/envs/pocket-coffea/lib/python3.8/site-packages/coffea/nanoevents/mapping/uproot.py:86: UserWarning: Found duplicate branch FatJet_btagDDCvBV2 in <TTree 'Events' (1425 branches) at 0x7f5a081b9f70>, taking first instance\n",
      "  warnings.warn(\n",
      "/work/mmarcheg/miniconda3/envs/pocket-coffea/lib/python3.8/site-packages/coffea/nanoevents/mapping/uproot.py:86: UserWarning: Found duplicate branch FatJet_btagDDCvLV2 in <TTree 'Events' (1425 branches) at 0x7f5a081b9f70>, taking first instance\n",
      "  warnings.warn(\n"
     ]
    },
    {
     "name": "stdout",
     "output_type": "stream",
     "text": [
      "2018B nEvents= 15556\n"
     ]
    },
    {
     "name": "stderr",
     "output_type": "stream",
     "text": [
      "/work/mmarcheg/miniconda3/envs/pocket-coffea/lib/python3.8/site-packages/coffea/nanoevents/mapping/uproot.py:86: UserWarning: Found duplicate branch FatJet_btagDDBvLV2 in <TTree 'Events' (1455 branches) at 0x7f5a059f86d0>, taking first instance\n",
      "  warnings.warn(\n",
      "/work/mmarcheg/miniconda3/envs/pocket-coffea/lib/python3.8/site-packages/coffea/nanoevents/mapping/uproot.py:86: UserWarning: Found duplicate branch FatJet_btagDDCvBV2 in <TTree 'Events' (1455 branches) at 0x7f5a059f86d0>, taking first instance\n",
      "  warnings.warn(\n",
      "/work/mmarcheg/miniconda3/envs/pocket-coffea/lib/python3.8/site-packages/coffea/nanoevents/mapping/uproot.py:86: UserWarning: Found duplicate branch FatJet_btagDDCvLV2 in <TTree 'Events' (1455 branches) at 0x7f5a059f86d0>, taking first instance\n",
      "  warnings.warn(\n"
     ]
    },
    {
     "name": "stdout",
     "output_type": "stream",
     "text": [
      "2018C nEvents= 22394\n",
      "2018D nEvents= 24919\n"
     ]
    },
    {
     "name": "stderr",
     "output_type": "stream",
     "text": [
      "/work/mmarcheg/miniconda3/envs/pocket-coffea/lib/python3.8/site-packages/coffea/nanoevents/mapping/uproot.py:86: UserWarning: Found duplicate branch FatJet_btagDDBvLV2 in <TTree 'Events' (1480 branches) at 0x7f5a02cb81c0>, taking first instance\n",
      "  warnings.warn(\n",
      "/work/mmarcheg/miniconda3/envs/pocket-coffea/lib/python3.8/site-packages/coffea/nanoevents/mapping/uproot.py:86: UserWarning: Found duplicate branch FatJet_btagDDCvBV2 in <TTree 'Events' (1480 branches) at 0x7f5a02cb81c0>, taking first instance\n",
      "  warnings.warn(\n",
      "/work/mmarcheg/miniconda3/envs/pocket-coffea/lib/python3.8/site-packages/coffea/nanoevents/mapping/uproot.py:86: UserWarning: Found duplicate branch FatJet_btagDDCvLV2 in <TTree 'Events' (1480 branches) at 0x7f5a02cb81c0>, taking first instance\n",
      "  warnings.warn(\n"
     ]
    }
   ],
   "source": [
    "filename = {}\n",
    "filename['2018A'] = \"/pnfs/psi.ch/cms/trivcat/store/user/mmarcheg/BTVNanoCommissioning/store/user/anovak/PFNano/106X_v2_18rsb2/BTagMu/Run2018A-17Sep2018-v1_PFNanoAOD/210210_185436/0000/nano_data2018abc_46.root\"\n",
    "filename['2018B'] = \"/pnfs/psi.ch/cms/trivcat/store/user/mmarcheg/BTVNanoCommissioning/store/user/anovak/PFNano/106X_v2_18rsb2/BTagMu/Run2018B-17Sep2018-v1_PFNanoAOD/210210_185453/0000/nano_data2018abc_19.root\"\n",
    "filename['2018C'] = \"/pnfs/psi.ch/cms/trivcat/store/user/mmarcheg/BTVNanoCommissioning/store/user/anovak/PFNano/106X_v2_18rsb2/BTagMu/Run2018C-17Sep2018-v1_PFNanoAOD/210210_185511/0000/nano_data2018abc_417.root\"\n",
    "filename['2018D'] = \"/pnfs/psi.ch/cms/trivcat/store/user/mmarcheg/BTVNanoCommissioning/store/user/anovak/PFNano/106X_v2_18rsb2/BTagMu/Run2018D-PromptReco-v2_PFNanoAOD/210210_192246/0000/nano_data2018d_47.root\"\n",
    "events = {}\n",
    "for era, fname in filename.items():\n",
    "    events[era] = NanoEventsFactory.from_root(fname, schemaclass=NanoAODSchema).events()\n",
    "    print(era, \"nEvents=\", len(events[era]))"
   ]
  },
  {
   "cell_type": "code",
   "execution_count": 3,
   "id": "30d35cbe",
   "metadata": {},
   "outputs": [
    {
     "data": {
      "text/plain": [
       "['OtherPV',\n",
       " 'Electron',\n",
       " 'SoftActivityJetNjets5',\n",
       " 'SoftActivityJetHT5',\n",
       " 'Muon',\n",
       " 'HLTriggerFirstPath',\n",
       " 'Jet',\n",
       " 'SV',\n",
       " 'PV',\n",
       " 'FsrPhoton',\n",
       " 'SubJet',\n",
       " 'RawMET',\n",
       " 'SoftActivityJetHT2',\n",
       " 'DeepMETResolutionTune',\n",
       " 'TkMET',\n",
       " 'Photon',\n",
       " 'fixedGridRhoFastjetCentralCalo',\n",
       " 'HLT',\n",
       " 'L1Reco',\n",
       " 'fixedGridRhoFastjetCentral',\n",
       " 'DeepMETResponseTune',\n",
       " 'MET',\n",
       " 'run',\n",
       " 'SoftActivityJetHT',\n",
       " 'event',\n",
       " 'L1',\n",
       " 'FatJet',\n",
       " 'luminosityBlock',\n",
       " 'CaloMET',\n",
       " 'RawPuppiMET',\n",
       " 'fixedGridRhoFastjetAll',\n",
       " 'Tau',\n",
       " 'ChsMET',\n",
       " 'IsoTrack',\n",
       " 'PuppiMET',\n",
       " 'CorrT1METJet',\n",
       " 'Flag',\n",
       " 'fixedGridRhoFastjetCentralChargedPileUp',\n",
       " 'fixedGridRhoFastjetCentralNeutral',\n",
       " 'SoftActivityJetHT10',\n",
       " 'SoftActivityJet',\n",
       " 'SoftActivityJetNjets2',\n",
       " 'HLTriggerFinalPath',\n",
       " 'SoftActivityJetNjets10',\n",
       " 'TrigObj']"
      ]
     },
     "execution_count": 3,
     "metadata": {},
     "output_type": "execute_result"
    }
   ],
   "source": [
    "e = events[\"2018A\"]\n",
    "e.fields"
   ]
  },
  {
   "cell_type": "code",
   "execution_count": 4,
   "id": "b83bea12",
   "metadata": {},
   "outputs": [
    {
     "data": {
      "text/plain": [
       "<Array [[[194, 25.2], ... [264, 47.4]]] type='8109 * var * var * ?float32[parame...'>"
      ]
     },
     "execution_count": 4,
     "metadata": {},
     "output_type": "execute_result"
    }
   ],
   "source": [
    "e = e[ak.num(e.FatJet.pt) > 0]\n",
    "e = e[ak.all(ak.count(e.FatJet.subjets.pt, axis=2) > 1, axis=1)]\n",
    "e.FatJet.subjets.pt"
   ]
  },
  {
   "cell_type": "code",
   "execution_count": 5,
   "id": "43c2c160",
   "metadata": {},
   "outputs": [
    {
     "data": {
      "image/png": "[encoded data removed]",
      "text/plain": [
       "<Figure size 640x480 with 1 Axes>"
      ]
     },
     "metadata": {},
     "output_type": "display_data"
    }
   ],
   "source": [
    "plt.hist(ak.num(e.FatJet.pt), bins=10, range=(0,10));"
   ]
  },
  {
   "cell_type": "code",
   "execution_count": 6,
   "id": "716142d6",
   "metadata": {},
   "outputs": [
    {
     "data": {
      "text/plain": [
       "[[271.0, 228.125], [337.25, 276.5], [387.5, 272.25], [268.5, 254.625]]"
      ]
     },
     "execution_count": 6,
     "metadata": {},
     "output_type": "execute_result"
    }
   ],
   "source": [
    "# FatJets\n",
    "e.FatJet.pt[:4].tolist()"
   ]
  },
  {
   "cell_type": "code",
   "execution_count": 7,
   "id": "609df97e",
   "metadata": {},
   "outputs": [
    {
     "data": {
      "text/plain": [
       "[[[194.5, 25.234375], [199.0, 28.5]],\n",
       " [[202.0, 79.9375], [199.0, 74.375]],\n",
       " [[305.75, 60.71875], [155.875, 101.4375]],\n",
       " [[179.875, 86.8125], [184.75, 41.65625]]]"
      ]
     },
     "execution_count": 7,
     "metadata": {},
     "output_type": "execute_result"
    }
   ],
   "source": [
    "# Subjets of all FatJets\n",
    "e.FatJet.subjets.pt[:4].tolist()"
   ]
  },
  {
   "cell_type": "code",
   "execution_count": 8,
   "id": "7fe17474",
   "metadata": {},
   "outputs": [
    {
     "data": {
      "text/plain": [
       "[[194.5, 199.0], [202.0, 199.0], [305.75, 155.875], [179.875, 184.75]]"
      ]
     },
     "execution_count": 8,
     "metadata": {},
     "output_type": "execute_result"
    }
   ],
   "source": [
    "# Leading subjet of all FatJets\n",
    "e.FatJet.subjets.pt[:4][:,:,0].tolist()"
   ]
  },
  {
   "cell_type": "code",
   "execution_count": 9,
   "id": "1057d970",
   "metadata": {},
   "outputs": [
    {
     "data": {
      "text/plain": [
       "[[25.234375, 28.5],\n",
       " [79.9375, 74.375],\n",
       " [60.71875, 101.4375],\n",
       " [86.8125, 41.65625]]"
      ]
     },
     "execution_count": 9,
     "metadata": {},
     "output_type": "execute_result"
    }
   ],
   "source": [
    "# Sub-leading subjet of all FatJets\n",
    "e.FatJet.subjets.pt[:4][:,:,1].tolist()"
   ]
  },
  {
   "cell_type": "code",
   "execution_count": 10,
   "id": "8c9ef34f",
   "metadata": {},
   "outputs": [
    {
     "data": {
      "text/plain": [
       "[194.5, 202.0, 305.75, 179.875]"
      ]
     },
     "execution_count": 10,
     "metadata": {},
     "output_type": "execute_result"
    }
   ],
   "source": [
    "# Leading subjet of leading FatJet\n",
    "e.FatJet.subjets.pt[:4][:,0,0].tolist()"
   ]
  },
  {
   "cell_type": "code",
   "execution_count": 11,
   "id": "86be121a",
   "metadata": {},
   "outputs": [
    {
     "data": {
      "text/plain": [
       "[199.0, 199.0, 155.875, 184.75]"
      ]
     },
     "execution_count": 11,
     "metadata": {},
     "output_type": "execute_result"
    }
   ],
   "source": [
    "# Leading subjet of sub-leading FatJet\n",
    "e.FatJet.subjets.pt[:4][:,1,0].tolist()"
   ]
  },
  {
   "cell_type": "code",
   "execution_count": 12,
   "id": "b4ea87ca",
   "metadata": {},
   "outputs": [
    {
     "data": {
      "text/plain": [
       "<Array [4, 4, 6, 0, 1, 2, ... 2, 3, 5, 3, 6, 5] type='8109 * int64'>"
      ]
     },
     "execution_count": 12,
     "metadata": {},
     "output_type": "execute_result"
    }
   ],
   "source": [
    "ak.num(e.SV.pt)"
   ]
  },
  {
   "cell_type": "code",
   "execution_count": 13,
   "id": "755d4fed",
   "metadata": {},
   "outputs": [
    {
     "data": {
      "text/plain": [
       "[[194.5, 199.0], [202.0, 199.0], [305.75, 155.875], [179.875, 184.75]]"
      ]
     },
     "execution_count": 13,
     "metadata": {},
     "output_type": "execute_result"
    }
   ],
   "source": [
    "sj1 = e.FatJet.subjets[:4][:,:,0]\n",
    "sj1.pt.tolist()"
   ]
  },
  {
   "cell_type": "code",
   "execution_count": 14,
   "id": "a616d34b",
   "metadata": {},
   "outputs": [
    {
     "data": {
      "text/plain": [
       "[[63.0625, 39.53125, 140.375, 26.625],\n",
       " [2.00390625, 30.578125, 22.125, 3.546875],\n",
       " [2.560546875, 28.90625, 11.0234375, 7.2421875, 12.21875, 7.34375],\n",
       " []]"
      ]
     },
     "execution_count": 14,
     "metadata": {},
     "output_type": "execute_result"
    }
   ],
   "source": [
    "e.SV.pt[:4].tolist()"
   ]
  },
  {
   "cell_type": "code",
   "execution_count": 15,
   "id": "4736b7f1",
   "metadata": {},
   "outputs": [
    {
     "data": {
      "text/plain": [
       "<Array [[194, 199], [202, ... 156], [180, 185]] type='4 * var * ?float32[paramet...'>"
      ]
     },
     "execution_count": 15,
     "metadata": {},
     "output_type": "execute_result"
    }
   ],
   "source": [
    "sj1.pt"
   ]
  },
  {
   "cell_type": "code",
   "execution_count": 16,
   "id": "aad2c077",
   "metadata": {},
   "outputs": [
    {
     "data": {
      "text/plain": [
       "False"
      ]
     },
     "execution_count": 16,
     "metadata": {},
     "output_type": "execute_result"
    }
   ],
   "source": [
    "ak.any(ak.num(sj1) < 2)"
   ]
  },
  {
   "cell_type": "code",
   "execution_count": 17,
   "id": "000239c0",
   "metadata": {},
   "outputs": [
    {
     "data": {
      "text/plain": [
       "<Array [[1, 4], [2, 5], [3, 6]] type='3 * var * int64'>"
      ]
     },
     "execution_count": 17,
     "metadata": {},
     "output_type": "execute_result"
    }
   ],
   "source": [
    "x = ak.Array([[1],[2],[3]])\n",
    "y = ak.Array([[4],[5],[6]])\n",
    "ak.concatenate((x,y), axis=1)"
   ]
  },
  {
   "cell_type": "code",
   "execution_count": 18,
   "id": "45f0b962",
   "metadata": {},
   "outputs": [
    {
     "data": {
      "text/plain": [
       "<Array [None, [4.01], [], ... [], [], []] type='21650 * option[var * float32]'>"
      ]
     },
     "execution_count": 18,
     "metadata": {},
     "output_type": "execute_result"
    }
   ],
   "source": [
    "ak.pad_none(events['2018A'].FatJet,1)[:,0].delta_r(events['2018A'].Electron)"
   ]
  },
  {
   "cell_type": "code",
   "execution_count": 19,
   "id": "bc70140c",
   "metadata": {},
   "outputs": [
    {
     "data": {
      "text/plain": [
       "<FatJetArray [[None], [FatJet, ... [FatJet, FatJet]] type='21650 * var * ?fatJet'>"
      ]
     },
     "execution_count": 19,
     "metadata": {},
     "output_type": "execute_result"
    }
   ],
   "source": [
    "ak.pad_none(events['2018A'].FatJet,1)"
   ]
  },
  {
   "cell_type": "code",
   "execution_count": 20,
   "id": "e2d9c86a",
   "metadata": {},
   "outputs": [
    {
     "data": {
      "text/plain": [
       "<Array [[10], [20], [None]] type='3 * var * ?int64'>"
      ]
     },
     "execution_count": 20,
     "metadata": {},
     "output_type": "execute_result"
    }
   ],
   "source": [
    "x = ak.Array([[10],[20],[None]])\n",
    "x"
   ]
  },
  {
   "cell_type": "code",
   "execution_count": 21,
   "id": "cb5cfb20",
   "metadata": {},
   "outputs": [
    {
     "data": {
      "text/plain": [
       "<Array [[1], [1], [0]] type='3 * 1 * int64'>"
      ]
     },
     "execution_count": 21,
     "metadata": {},
     "output_type": "execute_result"
    }
   ],
   "source": [
    "ak.unflatten(ak.count(x, axis=1), counts=1)"
   ]
  },
  {
   "cell_type": "code",
   "execution_count": 22,
   "id": "f1166ddb",
   "metadata": {},
   "outputs": [
    {
     "data": {
      "text/plain": [
       "<Array [[1, 1.19], [1, ... 1.07], [1, 1.07]] type='8109 * var * float32'>"
      ]
     },
     "execution_count": 22,
     "metadata": {},
     "output_type": "execute_result"
    }
   ],
   "source": [
    "e.FatJet.pt[:,0]/e.FatJet.pt"
   ]
  },
  {
   "cell_type": "code",
   "execution_count": 23,
   "id": "e7e840c0",
   "metadata": {},
   "outputs": [
    {
     "data": {
      "text/plain": [
       "['area',\n",
       " 'btagCMVA',\n",
       " 'btagCSVV2',\n",
       " 'btagDDBvL',\n",
       " 'btagDDBvLV2',\n",
       " 'btagDDBvL_noMD',\n",
       " 'btagDDCvB',\n",
       " 'btagDDCvBV2',\n",
       " 'btagDDCvB_noMD',\n",
       " 'btagDDCvL',\n",
       " 'btagDDCvLV2',\n",
       " 'btagDDCvL_noMD',\n",
       " 'btagDeepB',\n",
       " 'btagHbb',\n",
       " 'deepTagMD_H4qvsQCD',\n",
       " 'deepTagMD_HbbvsQCD',\n",
       " 'deepTagMD_TvsQCD',\n",
       " 'deepTagMD_WvsQCD',\n",
       " 'deepTagMD_ZHbbvsQCD',\n",
       " 'deepTagMD_ZHccvsQCD',\n",
       " 'deepTagMD_ZbbvsQCD',\n",
       " 'deepTagMD_ZvsQCD',\n",
       " 'deepTagMD_bbvsLight',\n",
       " 'deepTagMD_ccvsLight',\n",
       " 'deepTag_H',\n",
       " 'deepTag_QCD',\n",
       " 'deepTag_QCDothers',\n",
       " 'deepTag_TvsQCD',\n",
       " 'deepTag_WvsQCD',\n",
       " 'deepTag_ZvsQCD',\n",
       " 'eta',\n",
       " 'mass',\n",
       " 'msoftdrop',\n",
       " 'n2b1',\n",
       " 'n3b1',\n",
       " 'particleNetMD_QCD',\n",
       " 'particleNetMD_Xbb',\n",
       " 'particleNetMD_Xcc',\n",
       " 'particleNetMD_Xqq',\n",
       " 'particleNet_H4qvsQCD',\n",
       " 'particleNet_HbbvsQCD',\n",
       " 'particleNet_HccvsQCD',\n",
       " 'particleNet_QCD',\n",
       " 'particleNet_TvsQCD',\n",
       " 'particleNet_WvsQCD',\n",
       " 'particleNet_ZvsQCD',\n",
       " 'phi',\n",
       " 'pt',\n",
       " 'rawFactor',\n",
       " 'tau1',\n",
       " 'tau2',\n",
       " 'tau3',\n",
       " 'tau4',\n",
       " 'lsf3',\n",
       " 'jetId',\n",
       " 'subJetIdx1',\n",
       " 'subJetIdx2',\n",
       " 'electronIdx3SJ',\n",
       " 'muonIdx3SJ',\n",
       " 'Proba',\n",
       " 'btagDeepB_b',\n",
       " 'btagDeepB_bb',\n",
       " 'btagDeepL',\n",
       " 'nBHadrons',\n",
       " 'nCHadrons',\n",
       " 'subJetIdx1G',\n",
       " 'subJetIdx2G',\n",
       " 'subJetIdxG']"
      ]
     },
     "execution_count": 23,
     "metadata": {},
     "output_type": "execute_result"
    }
   ],
   "source": [
    "e.FatJet.fields"
   ]
  },
  {
   "cell_type": "code",
   "execution_count": 24,
   "id": "b4de5c6c",
   "metadata": {},
   "outputs": [
    {
     "data": {
      "text/plain": [
       "[]"
      ]
     },
     "execution_count": 24,
     "metadata": {},
     "output_type": "execute_result"
    }
   ],
   "source": [
    "list(filter(lambda x : 'Gen' in x, e.Jet.fields))"
   ]
  },
  {
   "cell_type": "code",
   "execution_count": 28,
   "id": "9020c0e8",
   "metadata": {},
   "outputs": [
    {
     "data": {
      "text/plain": [
       "[[[194.5, 25.234375], [199.0, 28.5]],\n",
       " [[202.0, 79.9375], [199.0, 74.375]],\n",
       " [[305.75, 60.71875], [155.875, 101.4375]],\n",
       " [[179.875, 86.8125], [184.75, 41.65625]],\n",
       " [[163.375, 50.625], [204.125, 43.71875]]]"
      ]
     },
     "execution_count": 28,
     "metadata": {},
     "output_type": "execute_result"
    }
   ],
   "source": [
    "e.FatJet.subjets.pt[:5].tolist()"
   ]
  },
  {
   "cell_type": "code",
   "execution_count": 32,
   "id": "569ecfd2",
   "metadata": {},
   "outputs": [
    {
     "data": {
      "text/plain": [
       "[[194.5, 199.0],\n",
       " [202.0, 199.0],\n",
       " [305.75, 155.875],\n",
       " [179.875, 184.75],\n",
       " [163.375, 204.125]]"
      ]
     },
     "execution_count": 32,
     "metadata": {},
     "output_type": "execute_result"
    }
   ],
   "source": [
    "leading_subjets = e.FatJet.subjets[:, :, 0]\n",
    "subleading_subjets = e.FatJet.subjets[:, :, 1]\n",
    "leading_subjets.pt[:5].tolist()"
   ]
  },
  {
   "cell_type": "code",
   "execution_count": 33,
   "id": "c8689cf0",
   "metadata": {},
   "outputs": [
    {
     "data": {
      "text/plain": [
       "[[25.234375, 28.5],\n",
       " [79.9375, 74.375],\n",
       " [60.71875, 101.4375],\n",
       " [86.8125, 41.65625],\n",
       " [50.625, 43.71875]]"
      ]
     },
     "execution_count": 33,
     "metadata": {},
     "output_type": "execute_result"
    }
   ],
   "source": [
    "subleading_subjets.pt[:5].tolist()"
   ]
  },
  {
   "cell_type": "code",
   "execution_count": 37,
   "id": "de3c3a2a",
   "metadata": {},
   "outputs": [
    {
     "data": {
      "text/plain": [
       "[[194.5, 25.234375],\n",
       " [202.0, 79.9375],\n",
       " [305.75, 60.71875],\n",
       " [179.875, 86.8125],\n",
       " [163.375, 50.625]]"
      ]
     },
     "execution_count": 37,
     "metadata": {},
     "output_type": "execute_result"
    }
   ],
   "source": [
    "subjets1 = e.FatJet.subjets[:, 0, :]\n",
    "subjets2 = ak.pad_none(e.FatJet, 2).subjets[:, 1, :]\n",
    "subjets1.pt[:5].tolist()"
   ]
  },
  {
   "cell_type": "code",
   "execution_count": 43,
   "id": "6c00f71d",
   "metadata": {},
   "outputs": [
    {
     "data": {
      "text/plain": [
       "[None,\n",
       " [168.0, 22.875],\n",
       " [223.5, 27.109375],\n",
       " [235.5, 48.65625],\n",
       " [177.375, 50.8125]]"
      ]
     },
     "execution_count": 43,
     "metadata": {},
     "output_type": "execute_result"
    }
   ],
   "source": [
    "subjets2.pt[25:30].tolist()"
   ]
  },
  {
   "cell_type": "code",
   "execution_count": 42,
   "id": "3461c6da",
   "metadata": {},
   "outputs": [
    {
     "data": {
      "text/plain": [
       "[1, 2, 2, 2, 2]"
      ]
     },
     "execution_count": 42,
     "metadata": {},
     "output_type": "execute_result"
    }
   ],
   "source": [
    "ak.num(e.FatJet.pt)[25:30].tolist()"
   ]
  },
  {
   "cell_type": "code",
   "execution_count": 45,
   "id": "5395f278",
   "metadata": {},
   "outputs": [
    {
     "data": {
      "text/plain": [
       "[271.0, 337.25, 387.5, 268.5, 313.5]"
      ]
     },
     "execution_count": 45,
     "metadata": {},
     "output_type": "execute_result"
    }
   ],
   "source": [
    "leading_jet = ak.firsts(e.FatJet)\n",
    "leading_jet.pt[:5].tolist()"
   ]
  },
  {
   "cell_type": "code",
   "execution_count": 49,
   "id": "033bb810",
   "metadata": {},
   "outputs": [
    {
     "data": {
      "text/plain": [
       "[[194.5, 25.234375],\n",
       " [202.0, 79.9375],\n",
       " [305.75, 60.71875],\n",
       " [179.875, 86.8125],\n",
       " [163.375, 50.625]]"
      ]
     },
     "execution_count": 49,
     "metadata": {},
     "output_type": "execute_result"
    }
   ],
   "source": [
    "leading_jet.subjets.pt[:5].tolist()"
   ]
  },
  {
   "cell_type": "code",
   "execution_count": 50,
   "id": "0da2af86",
   "metadata": {},
   "outputs": [
    {
     "data": {
      "text/plain": [
       "[194.5, 202.0, 305.75, 179.875, 163.375]"
      ]
     },
     "execution_count": 50,
     "metadata": {},
     "output_type": "execute_result"
    }
   ],
   "source": [
    "leading_jet.subjets[:,0].pt[:5].tolist()"
   ]
  },
  {
   "cell_type": "code",
   "execution_count": 53,
   "id": "cbad897c",
   "metadata": {},
   "outputs": [
    {
     "data": {
      "text/plain": [
       "<Array [194, 202, 306, 180, ... 162, 338, 281] type='8109 * ?float32[parameters=...'>"
      ]
     },
     "execution_count": 53,
     "metadata": {},
     "output_type": "execute_result"
    }
   ],
   "source": [
    "sj1 = leading_jet.subjets[:,0]\n",
    "sj2 = leading_jet.subjets[:,1]\n",
    "sj1.pt"
   ]
  },
  {
   "cell_type": "code",
   "execution_count": 55,
   "id": "dd706de6",
   "metadata": {},
   "outputs": [
    {
     "data": {
      "text/plain": [
       "<Array [[0.0991], [0.000743, ... 3.1], [0.369]] type='8109 * option[var * float32]'>"
      ]
     },
     "execution_count": 55,
     "metadata": {},
     "output_type": "execute_result"
    }
   ],
   "source": [
    "muon = e.Muon\n",
    "mu_dr1 = sj1.delta_r(muon)\n",
    "mu_dr2 = sj2.delta_r(muon)\n",
    "mu_dr2"
   ]
  },
  {
   "cell_type": "code",
   "execution_count": 63,
   "id": "04f2e8b9",
   "metadata": {},
   "outputs": [
    {
     "data": {
      "text/plain": [
       "[[1, 1],\n",
       " [1, 1],\n",
       " [1, 1],\n",
       " [1, 0],\n",
       " [0, 0],\n",
       " [1, 0],\n",
       " [0, 0],\n",
       " [1, 0],\n",
       " [1, 1],\n",
       " [2, 0]]"
      ]
     },
     "execution_count": 63,
     "metadata": {},
     "output_type": "execute_result"
    }
   ],
   "source": [
    "R = 0.4\n",
    "nmusj1 = ak.unflatten( ak.count(mu_dr1[mu_dr1 < R], axis=1), counts=1 )\n",
    "nmusj2 = ak.unflatten( ak.count(mu_dr2[mu_dr2 < R], axis=1), counts=1 )\n",
    "nmusj = ak.concatenate((nmusj1, nmusj2), axis=1)\n",
    "nmusj[:10].tolist()"
   ]
  },
  {
   "cell_type": "code",
   "execution_count": 65,
   "id": "64eaa93c",
   "metadata": {},
   "outputs": [
    {
     "data": {
      "text/plain": [
       "[[True, True],\n",
       " [True, True],\n",
       " [True, True],\n",
       " [True, False],\n",
       " [False, False],\n",
       " [True, False],\n",
       " [False, False],\n",
       " [True, False],\n",
       " [True, True],\n",
       " [True, False]]"
      ]
     },
     "execution_count": 65,
     "metadata": {},
     "output_type": "execute_result"
    }
   ],
   "source": [
    "(nmusj > 0)[:10].tolist()"
   ]
  },
  {
   "cell_type": "code",
   "execution_count": 66,
   "id": "1b030a76",
   "metadata": {},
   "outputs": [
    {
     "data": {
      "text/plain": [
       "[True, True, True, False, False, False, False, False, True, False]"
      ]
     },
     "execution_count": 66,
     "metadata": {},
     "output_type": "execute_result"
    }
   ],
   "source": [
    "ak.all(nmusj > 0, axis=1)[:10].tolist()"
   ]
  },
  {
   "cell_type": "code",
   "execution_count": 71,
   "id": "f2597453",
   "metadata": {},
   "outputs": [
    {
     "data": {
      "image/png": "[encoded data removed]",
      "text/plain": [
       "<Figure size 640x480 with 1 Axes>"
      ]
     },
     "metadata": {},
     "output_type": "display_data"
    }
   ],
   "source": [
    "plt.hist(ak.count(e.FatJet.pt, axis=1), bins=10, range=(0,10));"
   ]
  },
  {
   "cell_type": "code",
   "execution_count": 72,
   "id": "ca8d7322",
   "metadata": {},
   "outputs": [
    {
     "data": {
      "image/png": "[encoded data removed]",
      "text/plain": [
       "<Figure size 640x480 with 1 Axes>"
      ]
     },
     "metadata": {},
     "output_type": "display_data"
    }
   ],
   "source": [
    "e_lead350 = e[e.FatJet[:,0].pt > 350]\n",
    "plt.hist(ak.flatten(e_lead350.FatJet.pt), bins=100, range=(0,500));"
   ]
  },
  {
   "cell_type": "code",
   "execution_count": 73,
   "id": "b3a7704c",
   "metadata": {},
   "outputs": [
    {
     "data": {
      "image/png": "[encoded data removed]",
      "text/plain": [
       "<Figure size 640x480 with 1 Axes>"
      ]
     },
     "metadata": {},
     "output_type": "display_data"
    }
   ],
   "source": [
    "plt.hist(ak.count(e_lead350.FatJet.pt, axis=1), bins=10, range=(0,10));"
   ]
  },
  {
   "cell_type": "code",
   "execution_count": 77,
   "id": "0d411fc6",
   "metadata": {},
   "outputs": [
    {
     "data": {
      "image/png": "[encoded data removed]",
      "text/plain": [
       "<Figure size 640x480 with 1 Axes>"
      ]
     },
     "metadata": {},
     "output_type": "display_data"
    }
   ],
   "source": [
    "e_lead350sublead350 = e[((e.FatJet[:,0].pt > 350) & (ak.pad_none(e.FatJet, 2)[:,1].pt > 350) & (ak.count(e.FatJet.pt, axis=1) == 2))]\n",
    "plt.hist(ak.flatten(e_lead350sublead350.FatJet.pt), bins=100, range=(0,500));"
   ]
  },
  {
   "cell_type": "code",
   "execution_count": 78,
   "id": "744fc1ae",
   "metadata": {},
   "outputs": [
    {
     "data": {
      "image/png": "[encoded data removed]",
      "text/plain": [
       "<Figure size 640x480 with 1 Axes>"
      ]
     },
     "metadata": {},
     "output_type": "display_data"
    }
   ],
   "source": [
    "plt.hist(ak.count(e_lead350sublead350.FatJet.pt, axis=1), bins=10, range=(0,10));"
   ]
  },
  {
   "cell_type": "code",
   "execution_count": 82,
   "id": "aff7fda4",
   "metadata": {},
   "outputs": [],
   "source": [
    "def f(events):\n",
    "    events[\"prova\"] = 1\n",
    "    return\n",
    "\n",
    "f(e)"
   ]
  },
  {
   "cell_type": "code",
   "execution_count": 85,
   "id": "4ceef96f",
   "metadata": {},
   "outputs": [
    {
     "data": {
      "text/plain": [
       "5"
      ]
     },
     "execution_count": 85,
     "metadata": {},
     "output_type": "execute_result"
    }
   ],
   "source": [
    "ak.max(ak.count(e.FatJet.pt, axis=1))"
   ]
  },
  {
   "cell_type": "code",
   "execution_count": 88,
   "id": "c609fc28",
   "metadata": {},
   "outputs": [
    {
     "data": {
      "text/plain": [
       "[[True, True, True, True, True],\n",
       " [True, True, True, True, True],\n",
       " [True, True, True, True, True],\n",
       " [True, True, True, True, True],\n",
       " [True, True, True, True, True]]"
      ]
     },
     "execution_count": 88,
     "metadata": {},
     "output_type": "execute_result"
    }
   ],
   "source": [
    "good_jets_mask = ak.ones_like(ak.fill_none(ak.pad_none(e.FatJet.pt, 5), 1), dtype=bool)\n",
    "good_jets_mask[:5].tolist()"
   ]
  },
  {
   "cell_type": "code",
   "execution_count": 90,
   "id": "5e7fdece",
   "metadata": {},
   "outputs": [
    {
     "data": {
      "text/plain": [
       "[[True, True, None, None, None],\n",
       " [True, True, None, None, None],\n",
       " [True, True, None, None, None],\n",
       " [True, True, None, None, None],\n",
       " [True, False, None, None, None]]"
      ]
     },
     "execution_count": 90,
     "metadata": {},
     "output_type": "execute_result"
    }
   ],
   "source": [
    "presel_mask = ak.pad_none(e.FatJet.eta <1.5, 5)\n",
    "presel_mask[:5].tolist()"
   ]
  },
  {
   "cell_type": "code",
   "execution_count": 95,
   "id": "d9d9af56",
   "metadata": {},
   "outputs": [
    {
     "data": {
      "text/plain": [
       "[[True, True, None, None, None],\n",
       " [True, True, None, None, None],\n",
       " [True, True, None, None, None],\n",
       " [True, True, None, None, None],\n",
       " [True, False, None, None, None]]"
      ]
     },
     "execution_count": 95,
     "metadata": {},
     "output_type": "execute_result"
    }
   ],
   "source": [
    "mask = (good_jets_mask & presel_mask)\n",
    "mask[:5].tolist()"
   ]
  },
  {
   "cell_type": "code",
   "execution_count": 99,
   "id": "96e9de5c",
   "metadata": {},
   "outputs": [
    {
     "data": {
      "text/plain": [
       "[[True, True], [True, True], [True, True], [True, True], [True, False]]"
      ]
     },
     "execution_count": 99,
     "metadata": {},
     "output_type": "execute_result"
    }
   ],
   "source": [
    "mask[~ak.is_none(mask, axis=1)][:5].tolist()"
   ]
  },
  {
   "cell_type": "code",
   "execution_count": 100,
   "id": "ce8fc595",
   "metadata": {},
   "outputs": [
    {
     "data": {
      "text/plain": [
       "<Array [[[0, 1], [1, 1]], [[1, 2], [1, 0]]] type='2 * var * var * int64'>"
      ]
     },
     "execution_count": 100,
     "metadata": {},
     "output_type": "execute_result"
    }
   ],
   "source": [
    "nmusj = ak.Array([[[0, 1], [1, 1]], [[1, 2], [1, 0]]])\n",
    "nmusj"
   ]
  },
  {
   "cell_type": "code",
   "execution_count": 103,
   "id": "425b6b55",
   "metadata": {},
   "outputs": [
    {
     "data": {
      "text/plain": [
       "<Array [0, 1] type='2 * int64'>"
      ]
     },
     "execution_count": 103,
     "metadata": {},
     "output_type": "execute_result"
    }
   ],
   "source": [
    "nmusj[:,0,0]"
   ]
  },
  {
   "cell_type": "code",
   "execution_count": 104,
   "id": "a10e4d7c",
   "metadata": {},
   "outputs": [
    {
     "data": {
      "text/plain": [
       "<Array [1, 2] type='2 * int64'>"
      ]
     },
     "execution_count": 104,
     "metadata": {},
     "output_type": "execute_result"
    }
   ],
   "source": [
    "nmusj[:,0,1]"
   ]
  },
  {
   "cell_type": "code",
   "execution_count": 105,
   "id": "8d329fe5",
   "metadata": {},
   "outputs": [
    {
     "data": {
      "text/plain": [
       "18437479"
      ]
     },
     "execution_count": 105,
     "metadata": {},
     "output_type": "execute_result"
    }
   ],
   "source": [
    "ak.count(e)"
   ]
  },
  {
   "cell_type": "code",
   "execution_count": 113,
   "id": "005c8bc8",
   "metadata": {},
   "outputs": [],
   "source": [
    "f = \"/pnfs/psi.ch/cms/trivcat/store/user/mmarcheg/BTVNanoCommissioning/store/user/mmarcheg/PFNano/BTagMu/Run2016B-ver2_HIPM_UL2016_MiniAODv2-v1_v01/220311_144252/0000/nano_data2016_430.root\""
   ]
  },
  {
   "cell_type": "code",
   "execution_count": 114,
   "id": "5a65ae54",
   "metadata": {
    "collapsed": true
   },
   "outputs": [
    {
     "name": "stderr",
     "output_type": "stream",
     "text": [
      "/work/mmarcheg/miniconda3/envs/pocket-coffea/lib/python3.8/site-packages/coffea/nanoevents/mapping/uproot.py:86: UserWarning: Found duplicate branch FatJet_btagDDBvLV2 in <TTree 'Events' (1409 branches) at 0x7f59d23e1c40>, taking first instance\n",
      "  warnings.warn(\n",
      "/work/mmarcheg/miniconda3/envs/pocket-coffea/lib/python3.8/site-packages/coffea/nanoevents/mapping/uproot.py:86: UserWarning: Found duplicate branch FatJet_btagDDCvBV2 in <TTree 'Events' (1409 branches) at 0x7f59d23e1c40>, taking first instance\n",
      "  warnings.warn(\n",
      "/work/mmarcheg/miniconda3/envs/pocket-coffea/lib/python3.8/site-packages/coffea/nanoevents/mapping/uproot.py:86: UserWarning: Found duplicate branch FatJet_btagDDCvLV2 in <TTree 'Events' (1409 branches) at 0x7f59d23e1c40>, taking first instance\n",
      "  warnings.warn(\n"
     ]
    },
    {
     "data": {
      "text/plain": [
       "['AK8PFJet360_TrimMass30',\n",
       " 'AK8PFHT700_TrimR0p1PT0p03Mass50',\n",
       " 'AK8PFHT650_TrimR0p1PT0p03Mass50',\n",
       " 'AK8PFHT600_TrimR0p1PT0p03Mass50_BTagCSV_p20',\n",
       " 'CaloJet500_NoJetID',\n",
       " 'Dimuon13_PsiPrime',\n",
       " 'Dimuon13_Upsilon',\n",
       " 'Dimuon20_Jpsi',\n",
       " 'DoubleEle24_22_eta2p1_WPLoose_Gsf',\n",
       " 'DoubleEle33_CaloIdL',\n",
       " 'DoubleEle33_CaloIdL_MW',\n",
       " 'DoubleEle33_CaloIdL_GsfTrkIdVL_MW',\n",
       " 'DoubleEle33_CaloIdL_GsfTrkIdVL',\n",
       " 'DoubleEle37_Ele27_CaloIdL_GsfTrkIdVL',\n",
       " 'DoubleMediumIsoPFTau32_Trk1_eta2p1_Reg',\n",
       " 'DoubleMediumIsoPFTau35_Trk1_eta2p1_Reg',\n",
       " 'DoubleMediumIsoPFTau40_Trk1_eta2p1_Reg',\n",
       " 'DoubleMu33NoFiltersNoVtx',\n",
       " 'DoubleMu38NoFiltersNoVtx',\n",
       " 'DoubleMu23NoFiltersNoVtxDisplaced',\n",
       " 'DoubleMu28NoFiltersNoVtxDisplaced',\n",
       " 'DoubleMu4_3_Bs',\n",
       " 'DoubleMu4_3_Jpsi_Displaced',\n",
       " 'DoubleMu4_JpsiTrk_Displaced',\n",
       " 'DoubleMu4_LowMassNonResonantTrk_Displaced',\n",
       " 'DoubleMu4_PsiPrimeTrk_Displaced',\n",
       " 'Mu7p5_L2Mu2_Jpsi',\n",
       " 'Mu7p5_L2Mu2_Upsilon',\n",
       " 'Mu7p5_Track2_Jpsi',\n",
       " 'Mu7p5_Track3p5_Jpsi',\n",
       " 'Mu7p5_Track7_Jpsi',\n",
       " 'Mu7p5_Track2_Upsilon',\n",
       " 'Mu7p5_Track3p5_Upsilon',\n",
       " 'Mu7p5_Track7_Upsilon',\n",
       " 'Dimuon0er16_Jpsi_NoOS_NoVertexing',\n",
       " 'Dimuon0er16_Jpsi_NoVertexing',\n",
       " 'Dimuon6_Jpsi_NoVertexing',\n",
       " 'DoublePhoton60',\n",
       " 'DoublePhoton85',\n",
       " 'Ele22_eta2p1_WPLoose_Gsf',\n",
       " 'Ele22_eta2p1_WPLoose_Gsf_LooseIsoPFTau20_SingleL1',\n",
       " 'Ele23_WPLoose_Gsf',\n",
       " 'Ele23_WPLoose_Gsf_WHbbBoost',\n",
       " 'Ele24_eta2p1_WPLoose_Gsf',\n",
       " 'Ele24_eta2p1_WPLoose_Gsf_LooseIsoPFTau20',\n",
       " 'Ele24_eta2p1_WPLoose_Gsf_LooseIsoPFTau20_SingleL1',\n",
       " 'Ele25_WPTight_Gsf',\n",
       " 'Ele25_eta2p1_WPLoose_Gsf',\n",
       " 'Ele25_eta2p1_WPTight_Gsf',\n",
       " 'Ele27_WPLoose_Gsf',\n",
       " 'Ele27_WPLoose_Gsf_WHbbBoost',\n",
       " 'Ele27_WPTight_Gsf',\n",
       " 'Ele27_eta2p1_WPLoose_Gsf',\n",
       " 'Ele27_eta2p1_WPLoose_Gsf_LooseIsoPFTau20_SingleL1',\n",
       " 'Ele27_eta2p1_WPLoose_Gsf_DoubleMediumIsoPFTau32_Trk1_eta2p1_Reg',\n",
       " 'Ele27_eta2p1_WPLoose_Gsf_DoubleMediumIsoPFTau35_Trk1_eta2p1_Reg',\n",
       " 'Ele27_eta2p1_WPLoose_Gsf_DoubleMediumIsoPFTau40_Trk1_eta2p1_Reg',\n",
       " 'Ele27_eta2p1_WPTight_Gsf',\n",
       " 'Ele32_eta2p1_WPLoose_Gsf_LooseIsoPFTau20_SingleL1',\n",
       " 'Ele32_eta2p1_WPTight_Gsf',\n",
       " 'Ele35_WPLoose_Gsf',\n",
       " 'Ele35_CaloIdVT_GsfTrkIdT_PFJet150_PFJet50',\n",
       " 'Ele45_WPLoose_Gsf',\n",
       " 'Ele45_CaloIdVT_GsfTrkIdT_PFJet200_PFJet50',\n",
       " 'Ele105_CaloIdVT_GsfTrkIdT',\n",
       " 'Ele30WP60_SC4_Mass55',\n",
       " 'Ele30WP60_Ele8_Mass55',\n",
       " 'HT200',\n",
       " 'HT275',\n",
       " 'HT325',\n",
       " 'HT425',\n",
       " 'HT575',\n",
       " 'HT410to430',\n",
       " 'HT430to450',\n",
       " 'HT450to470',\n",
       " 'HT470to500',\n",
       " 'HT500to550',\n",
       " 'HT550to650',\n",
       " 'HT650',\n",
       " 'Mu16_eta2p1_MET30',\n",
       " 'IsoMu16_eta2p1_MET30',\n",
       " 'IsoMu16_eta2p1_MET30_LooseIsoPFTau50_Trk30_eta2p1',\n",
       " 'IsoMu17_eta2p1_LooseIsoPFTau20',\n",
       " 'IsoMu17_eta2p1_LooseIsoPFTau20_SingleL1',\n",
       " 'DoubleIsoMu17_eta2p1',\n",
       " 'DoubleIsoMu17_eta2p1_noDzCut',\n",
       " 'IsoMu18',\n",
       " 'IsoMu19_eta2p1_LooseIsoPFTau20',\n",
       " 'IsoMu19_eta2p1_LooseIsoPFTau20_SingleL1',\n",
       " 'IsoMu19_eta2p1_MediumIsoPFTau32_Trk1_eta2p1_Reg',\n",
       " 'IsoMu20',\n",
       " 'IsoMu21_eta2p1_LooseIsoPFTau20_SingleL1',\n",
       " 'IsoMu21_eta2p1_MediumIsoPFTau32_Trk1_eta2p1_Reg',\n",
       " 'IsoMu22',\n",
       " 'IsoMu24',\n",
       " 'IsoMu27',\n",
       " 'IsoTkMu18',\n",
       " 'IsoTkMu20',\n",
       " 'IsoTkMu22',\n",
       " 'IsoTkMu24',\n",
       " 'IsoTkMu27',\n",
       " 'JetE30_NoBPTX3BX',\n",
       " 'JetE30_NoBPTX',\n",
       " 'JetE50_NoBPTX3BX',\n",
       " 'JetE70_NoBPTX3BX',\n",
       " 'L1SingleMu16',\n",
       " 'L2Mu10',\n",
       " 'L1SingleMuOpen',\n",
       " 'L1SingleMuOpen_DT',\n",
       " 'L2DoubleMu23_NoVertex',\n",
       " 'L2DoubleMu28_NoVertex_2Cha_Angle2p5_Mass10',\n",
       " 'L2DoubleMu38_NoVertex_2Cha_Angle2p5_Mass10',\n",
       " 'L2Mu10_NoVertex_NoBPTX3BX',\n",
       " 'L2Mu10_NoVertex_NoBPTX',\n",
       " 'L2Mu35_NoVertex_3Sta_NoBPTX3BX',\n",
       " 'L2Mu40_NoVertex_3Sta_NoBPTX3BX',\n",
       " 'LooseIsoPFTau50_Trk30_eta2p1',\n",
       " 'LooseIsoPFTau50_Trk30_eta2p1_MET80',\n",
       " 'LooseIsoPFTau50_Trk30_eta2p1_MET90',\n",
       " 'LooseIsoPFTau50_Trk30_eta2p1_MET110',\n",
       " 'LooseIsoPFTau50_Trk30_eta2p1_MET120',\n",
       " 'Mu17_Mu8',\n",
       " 'Mu17_Mu8_DZ',\n",
       " 'Mu17_Mu8_SameSign_DZ',\n",
       " 'Mu20_Mu10',\n",
       " 'Mu20_Mu10_DZ',\n",
       " 'Mu20_Mu10_SameSign_DZ',\n",
       " 'Mu17_TkMu8_DZ',\n",
       " 'Mu17_TrkIsoVVL_Mu8_TrkIsoVVL',\n",
       " 'Mu17_TrkIsoVVL_Mu8_TrkIsoVVL_DZ',\n",
       " 'Mu17_TrkIsoVVL_TkMu8_TrkIsoVVL',\n",
       " 'Mu17_TrkIsoVVL_TkMu8_TrkIsoVVL_DZ',\n",
       " 'Mu25_TkMu0_dEta18_Onia',\n",
       " 'Mu27_TkMu8',\n",
       " 'Mu30_TkMu11',\n",
       " 'Mu30_eta2p1_PFJet150_PFJet50',\n",
       " 'Mu40_TkMu11',\n",
       " 'Mu40_eta2p1_PFJet200_PFJet50',\n",
       " 'Mu20',\n",
       " 'TkMu20',\n",
       " 'Mu24_eta2p1',\n",
       " 'TkMu24_eta2p1',\n",
       " 'Mu27',\n",
       " 'TkMu27',\n",
       " 'Mu50',\n",
       " 'Mu45_eta2p1',\n",
       " 'Mu38NoFiltersNoVtx_Photon38_CaloIdL',\n",
       " 'Mu42NoFiltersNoVtx_Photon42_CaloIdL',\n",
       " 'Mu28NoFiltersNoVtxDisplaced_Photon28_CaloIdL',\n",
       " 'Mu33NoFiltersNoVtxDisplaced_Photon33_CaloIdL',\n",
       " 'Mu23NoFiltersNoVtx_Photon23_CaloIdL',\n",
       " 'DoubleMu18NoFiltersNoVtx',\n",
       " 'Mu33NoFiltersNoVtxDisplaced_DisplacedJet50_Tight',\n",
       " 'Mu33NoFiltersNoVtxDisplaced_DisplacedJet50_Loose',\n",
       " 'Mu28NoFiltersNoVtx_DisplacedJet40_Loose',\n",
       " 'Mu38NoFiltersNoVtxDisplaced_DisplacedJet60_Tight',\n",
       " 'Mu38NoFiltersNoVtxDisplaced_DisplacedJet60_Loose',\n",
       " 'Mu38NoFiltersNoVtx_DisplacedJet60_Loose',\n",
       " 'Mu28NoFiltersNoVtx_CentralCaloJet40',\n",
       " 'PFHT300_PFMET100',\n",
       " 'PFHT300_PFMET110',\n",
       " 'PFHT550_4JetPt50',\n",
       " 'PFHT650_4JetPt50',\n",
       " 'PFHT750_4JetPt50',\n",
       " 'PFJet15_NoCaloMatched',\n",
       " 'PFJet25_NoCaloMatched',\n",
       " 'DiPFJet15_NoCaloMatched',\n",
       " 'DiPFJet25_NoCaloMatched',\n",
       " 'DiPFJet15_FBEta3_NoCaloMatched',\n",
       " 'DiPFJet25_FBEta3_NoCaloMatched',\n",
       " 'DiPFJetAve15_HFJEC',\n",
       " 'DiPFJetAve25_HFJEC',\n",
       " 'DiPFJetAve35_HFJEC',\n",
       " 'PFJet40',\n",
       " 'PFJet60',\n",
       " 'PFJet80',\n",
       " 'PFJet140',\n",
       " 'PFJet200',\n",
       " 'PFJet260',\n",
       " 'PFJet320',\n",
       " 'PFJet400',\n",
       " 'PFJet450',\n",
       " 'PFJet500',\n",
       " 'DiPFJetAve40',\n",
       " 'DiPFJetAve60',\n",
       " 'DiPFJetAve80',\n",
       " 'DiPFJetAve140',\n",
       " 'DiPFJetAve200',\n",
       " 'DiPFJetAve260',\n",
       " 'DiPFJetAve320',\n",
       " 'DiPFJetAve400',\n",
       " 'DiPFJetAve500',\n",
       " 'DiPFJetAve60_HFJEC',\n",
       " 'DiPFJetAve80_HFJEC',\n",
       " 'DiPFJetAve100_HFJEC',\n",
       " 'DiPFJetAve160_HFJEC',\n",
       " 'DiPFJetAve220_HFJEC',\n",
       " 'DiPFJetAve300_HFJEC',\n",
       " 'DiPFJet40_DEta3p5_MJJ600_PFMETNoMu140',\n",
       " 'DiPFJet40_DEta3p5_MJJ600_PFMETNoMu80',\n",
       " 'DiCentralPFJet55_PFMET110',\n",
       " 'PFHT125',\n",
       " 'PFHT200',\n",
       " 'PFHT250',\n",
       " 'PFHT300',\n",
       " 'PFHT350',\n",
       " 'PFHT400',\n",
       " 'PFHT475',\n",
       " 'PFHT600',\n",
       " 'PFHT650',\n",
       " 'PFHT800',\n",
       " 'PFHT900',\n",
       " 'PFHT200_PFAlphaT0p51',\n",
       " 'PFHT200_DiPFJetAve90_PFAlphaT0p57',\n",
       " 'PFHT200_DiPFJetAve90_PFAlphaT0p63',\n",
       " 'PFHT250_DiPFJetAve90_PFAlphaT0p55',\n",
       " 'PFHT250_DiPFJetAve90_PFAlphaT0p58',\n",
       " 'PFHT300_DiPFJetAve90_PFAlphaT0p53',\n",
       " 'PFHT300_DiPFJetAve90_PFAlphaT0p54',\n",
       " 'PFHT350_DiPFJetAve90_PFAlphaT0p52',\n",
       " 'PFHT350_DiPFJetAve90_PFAlphaT0p53',\n",
       " 'PFHT400_DiPFJetAve90_PFAlphaT0p51',\n",
       " 'PFHT400_DiPFJetAve90_PFAlphaT0p52',\n",
       " 'MET60_IsoTrk35_Loose',\n",
       " 'MET75_IsoTrk50',\n",
       " 'MET90_IsoTrk50',\n",
       " 'PFMET120_BTagCSV_p067',\n",
       " 'PFMET120_Mu5',\n",
       " 'PFMET170_NoiseCleaned',\n",
       " 'PFMET170_HBHECleaned',\n",
       " 'PFMET170_JetIdCleaned',\n",
       " 'PFMET170_NotCleaned',\n",
       " 'PFMET90_PFMHT90_IDTight',\n",
       " 'PFMET100_PFMHT100_IDTight',\n",
       " 'PFMET110_PFMHT110_IDTight',\n",
       " 'PFMET120_PFMHT120_IDTight',\n",
       " 'CaloMHTNoPU90_PFMET90_PFMHT90_IDTight_BTagCSV_p067',\n",
       " 'CaloMHTNoPU90_PFMET90_PFMHT90_IDTight',\n",
       " 'QuadPFJet_BTagCSV_p016_p11_VBF_Mqq200',\n",
       " 'QuadPFJet_BTagCSV_p016_VBF_Mqq460',\n",
       " 'QuadPFJet_BTagCSV_p016_p11_VBF_Mqq240',\n",
       " 'QuadPFJet_BTagCSV_p016_VBF_Mqq500',\n",
       " 'QuadPFJet_VBF',\n",
       " 'L1_TripleJet_VBF',\n",
       " 'QuadJet45_TripleBTagCSV_p087',\n",
       " 'QuadJet45_DoubleBTagCSV_p087',\n",
       " 'DoubleJet90_Double30_TripleBTagCSV_p087',\n",
       " 'DoubleJet90_Double30_DoubleBTagCSV_p087',\n",
       " 'DoubleJetsC100_DoubleBTagCSV_p026_DoublePFJetsC160',\n",
       " 'DoubleJetsC100_DoubleBTagCSV_p014_DoublePFJetsC100MaxDeta1p6',\n",
       " 'DoubleJetsC112_DoubleBTagCSV_p026_DoublePFJetsC172',\n",
       " 'DoubleJetsC112_DoubleBTagCSV_p014_DoublePFJetsC112MaxDeta1p6',\n",
       " 'DoubleJetsC100_SingleBTagCSV_p026',\n",
       " 'DoubleJetsC100_SingleBTagCSV_p014',\n",
       " 'DoubleJetsC100_SingleBTagCSV_p026_SinglePFJetC350',\n",
       " 'DoubleJetsC100_SingleBTagCSV_p014_SinglePFJetC350',\n",
       " 'Photon135_PFMET100',\n",
       " 'Photon22_R9Id90_HE10_Iso40_EBOnly_PFMET40',\n",
       " 'Photon22_R9Id90_HE10_Iso40_EBOnly_VBF',\n",
       " 'Photon250_NoHE',\n",
       " 'Photon300_NoHE',\n",
       " 'Photon26_R9Id85_OR_CaloId24b40e_Iso50T80L_Photon16_AND_HE10_R9Id65_Eta2_Mass60',\n",
       " 'Photon36_R9Id85_OR_CaloId24b40e_Iso50T80L_Photon22_AND_HE10_R9Id65_Eta2_Mass15',\n",
       " 'Photon36_R9Id90_HE10_Iso40_EBOnly_PFMET40',\n",
       " 'Photon36_R9Id90_HE10_Iso40_EBOnly_VBF',\n",
       " 'Photon50_R9Id90_HE10_Iso40_EBOnly_PFMET40',\n",
       " 'Photon50_R9Id90_HE10_Iso40_EBOnly_VBF',\n",
       " 'Photon75_R9Id90_HE10_Iso40_EBOnly_PFMET40',\n",
       " 'Photon75_R9Id90_HE10_Iso40_EBOnly_VBF',\n",
       " 'Photon90_R9Id90_HE10_Iso40_EBOnly_PFMET40',\n",
       " 'Photon90_R9Id90_HE10_Iso40_EBOnly_VBF',\n",
       " 'Photon120_R9Id90_HE10_Iso40_EBOnly_PFMET40',\n",
       " 'Photon120_R9Id90_HE10_Iso40_EBOnly_VBF',\n",
       " 'Mu8_TrkIsoVVL',\n",
       " 'Mu17_TrkIsoVVL',\n",
       " 'Ele8_CaloIdL_TrackIdL_IsoVL_PFJet30',\n",
       " 'Ele12_CaloIdL_TrackIdL_IsoVL_PFJet30',\n",
       " 'Ele17_CaloIdL_TrackIdL_IsoVL_PFJet30',\n",
       " 'Ele23_CaloIdL_TrackIdL_IsoVL_PFJet30',\n",
       " 'BTagMu_DiJet20_Mu5',\n",
       " 'BTagMu_DiJet40_Mu5',\n",
       " 'BTagMu_DiJet70_Mu5',\n",
       " 'BTagMu_DiJet110_Mu5',\n",
       " 'BTagMu_Jet300_Mu5',\n",
       " 'Ele23_Ele12_CaloIdL_TrackIdL_IsoVL_DZ',\n",
       " 'Ele17_Ele12_CaloIdL_TrackIdL_IsoVL_DZ',\n",
       " 'Ele16_Ele12_Ele8_CaloIdL_TrackIdL',\n",
       " 'Mu8_TrkIsoVVL_Ele23_CaloIdL_TrackIdL_IsoVL',\n",
       " 'Mu8_TrkIsoVVL_Ele17_CaloIdL_TrackIdL_IsoVL',\n",
       " 'Mu23_TrkIsoVVL_Ele8_CaloIdL_TrackIdL_IsoVL',\n",
       " 'Mu23_TrkIsoVVL_Ele12_CaloIdL_TrackIdL_IsoVL',\n",
       " 'Mu17_TrkIsoVVL_Ele12_CaloIdL_TrackIdL_IsoVL',\n",
       " 'Mu30_Ele30_CaloIdL_GsfTrkIdVL',\n",
       " 'Mu37_Ele27_CaloIdL_GsfTrkIdVL',\n",
       " 'Mu27_Ele37_CaloIdL_GsfTrkIdVL',\n",
       " 'Mu8_DiEle12_CaloIdL_TrackIdL',\n",
       " 'Mu12_Photon25_CaloIdL',\n",
       " 'Mu12_Photon25_CaloIdL_L1ISO',\n",
       " 'Mu12_Photon25_CaloIdL_L1OR',\n",
       " 'Mu17_Photon22_CaloIdL_L1ISO',\n",
       " 'Mu17_Photon30_CaloIdL_L1ISO',\n",
       " 'Mu17_Photon35_CaloIdL_L1ISO',\n",
       " 'DiMu9_Ele9_CaloIdL_TrackIdL',\n",
       " 'TripleMu_12_10_5',\n",
       " 'Mu3er_PFHT140_PFMET125',\n",
       " 'Mu6_PFHT200_PFMET80_BTagCSV_p067',\n",
       " 'Mu6_PFHT200_PFMET100',\n",
       " 'Mu14er_PFMET100',\n",
       " 'Ele17_Ele12_CaloIdL_TrackIdL_IsoVL',\n",
       " 'Ele23_Ele12_CaloIdL_TrackIdL_IsoVL',\n",
       " 'Ele12_CaloIdL_TrackIdL_IsoVL',\n",
       " 'Ele17_CaloIdL_GsfTrkIdVL',\n",
       " 'Ele17_CaloIdL_TrackIdL_IsoVL',\n",
       " 'Ele23_CaloIdL_TrackIdL_IsoVL',\n",
       " 'AK8DiPFJet280_200_TrimMass30',\n",
       " 'AK8DiPFJet250_200_TrimMass30',\n",
       " 'AK8DiPFJet280_200_TrimMass30_BTagCSV_p20',\n",
       " 'AK8DiPFJet250_200_TrimMass30_BTagCSV_p20',\n",
       " 'PFHT650_WideJetMJJ900DEtaJJ1p5',\n",
       " 'PFHT650_WideJetMJJ950DEtaJJ1p5',\n",
       " 'Photon22',\n",
       " 'Photon30',\n",
       " 'Photon36',\n",
       " 'Photon50',\n",
       " 'Photon75',\n",
       " 'Photon90',\n",
       " 'Photon120',\n",
       " 'Photon175',\n",
       " 'Photon165_HE10',\n",
       " 'Photon22_R9Id90_HE10_IsoM',\n",
       " 'Photon30_R9Id90_HE10_IsoM',\n",
       " 'Photon36_R9Id90_HE10_IsoM',\n",
       " 'Photon50_R9Id90_HE10_IsoM',\n",
       " 'Photon75_R9Id90_HE10_IsoM',\n",
       " 'Photon90_R9Id90_HE10_IsoM',\n",
       " 'Photon120_R9Id90_HE10_IsoM',\n",
       " 'Photon165_R9Id90_HE10_IsoM',\n",
       " 'Diphoton30_18_R9Id_OR_IsoCaloId_AND_HE_R9Id_Mass90',\n",
       " 'Diphoton30_18_R9Id_OR_IsoCaloId_AND_HE_R9Id_DoublePixelSeedMatch_Mass70',\n",
       " 'Diphoton30PV_18PV_R9Id_AND_IsoCaloId_AND_HE_R9Id_DoublePixelVeto_Mass55',\n",
       " 'Diphoton30_18_Solid_R9Id_AND_IsoCaloId_AND_HE_R9Id_Mass55',\n",
       " 'Diphoton30EB_18EB_R9Id_OR_IsoCaloId_AND_HE_R9Id_DoublePixelVeto_Mass55',\n",
       " 'Dimuon0_Jpsi_Muon',\n",
       " 'Dimuon0_Upsilon_Muon',\n",
       " 'QuadMuon0_Dimuon0_Jpsi',\n",
       " 'QuadMuon0_Dimuon0_Upsilon',\n",
       " 'Rsq0p25',\n",
       " 'Rsq0p30',\n",
       " 'RsqMR240_Rsq0p09_MR200',\n",
       " 'RsqMR240_Rsq0p09_MR200_4jet',\n",
       " 'RsqMR270_Rsq0p09_MR200',\n",
       " 'RsqMR270_Rsq0p09_MR200_4jet',\n",
       " 'Rsq0p02_MR300_TriPFJet80_60_40_BTagCSV_p063_p20_Mbb60_200',\n",
       " 'Rsq0p02_MR300_TriPFJet80_60_40_DoubleBTagCSV_p063_Mbb60_200',\n",
       " 'HT200_DisplacedDijet40_DisplacedTrack',\n",
       " 'HT250_DisplacedDijet40_DisplacedTrack',\n",
       " 'HT350_DisplacedDijet40_DisplacedTrack',\n",
       " 'HT350_DisplacedDijet80_DisplacedTrack',\n",
       " 'HT350_DisplacedDijet80_Tight_DisplacedTrack',\n",
       " 'HT350_DisplacedDijet40_Inclusive',\n",
       " 'HT400_DisplacedDijet40_Inclusive',\n",
       " 'HT500_DisplacedDijet40_Inclusive',\n",
       " 'HT550_DisplacedDijet40_Inclusive',\n",
       " 'HT650_DisplacedDijet80_Inclusive',\n",
       " 'HT750_DisplacedDijet80_Inclusive',\n",
       " 'VBF_DisplacedJet40_DisplacedTrack',\n",
       " 'VBF_DisplacedJet40_DisplacedTrack_2TrackIP2DSig5',\n",
       " 'VBF_DisplacedJet40_TightID_DisplacedTrack',\n",
       " 'VBF_DisplacedJet40_Hadronic',\n",
       " 'VBF_DisplacedJet40_Hadronic_2PromptTrack',\n",
       " 'VBF_DisplacedJet40_TightID_Hadronic',\n",
       " 'VBF_DisplacedJet40_VTightID_Hadronic',\n",
       " 'VBF_DisplacedJet40_VVTightID_Hadronic',\n",
       " 'VBF_DisplacedJet40_VTightID_DisplacedTrack',\n",
       " 'VBF_DisplacedJet40_VVTightID_DisplacedTrack',\n",
       " 'PFMETNoMu90_PFMHTNoMu90_IDTight',\n",
       " 'PFMETNoMu100_PFMHTNoMu100_IDTight',\n",
       " 'PFMETNoMu110_PFMHTNoMu110_IDTight',\n",
       " 'PFMETNoMu120_PFMHTNoMu120_IDTight',\n",
       " 'MonoCentralPFJet80_PFMETNoMu90_PFMHTNoMu90_IDTight',\n",
       " 'MonoCentralPFJet80_PFMETNoMu100_PFMHTNoMu100_IDTight',\n",
       " 'MonoCentralPFJet80_PFMETNoMu110_PFMHTNoMu110_IDTight',\n",
       " 'MonoCentralPFJet80_PFMETNoMu120_PFMHTNoMu120_IDTight',\n",
       " 'Ele27_eta2p1_WPLoose_Gsf_HT200',\n",
       " 'Photon90_CaloIdL_PFHT500',\n",
       " 'DoubleMu8_Mass8_PFHT250',\n",
       " 'Mu8_Ele8_CaloIdM_TrackIdM_Mass8_PFHT250',\n",
       " 'DoubleEle8_CaloIdM_TrackIdM_Mass8_PFHT250',\n",
       " 'DoubleMu8_Mass8_PFHT300',\n",
       " 'Mu8_Ele8_CaloIdM_TrackIdM_Mass8_PFHT300',\n",
       " 'DoubleEle8_CaloIdM_TrackIdM_Mass8_PFHT300',\n",
       " 'Mu10_CentralPFJet30_BTagCSV_p13',\n",
       " 'Ele10_CaloIdM_TrackIdM_CentralPFJet30_BTagCSV_p13',\n",
       " 'Ele15_IsoVVVL_BTagCSV_p067_PFHT400',\n",
       " 'Ele15_IsoVVVL_PFHT350_PFMET50',\n",
       " 'Ele15_IsoVVVL_PFHT600',\n",
       " 'Ele15_IsoVVVL_PFHT350',\n",
       " 'Mu10_TrkIsoVVL_DiPFJet40_DEta3p5_MJJ750_HTT350_PFMETNoMu60',\n",
       " 'Mu15_IsoVVVL_BTagCSV_p067_PFHT400',\n",
       " 'Mu15_IsoVVVL_PFHT350_PFMET50',\n",
       " 'Mu15_IsoVVVL_PFHT600',\n",
       " 'Mu15_IsoVVVL_PFHT350',\n",
       " 'Dimuon16_Jpsi',\n",
       " 'Dimuon10_Jpsi_Barrel',\n",
       " 'Dimuon8_PsiPrime_Barrel',\n",
       " 'Dimuon8_Upsilon_Barrel',\n",
       " 'Dimuon0_Phi_Barrel',\n",
       " 'Mu16_TkMu0_dEta18_Onia',\n",
       " 'Mu16_TkMu0_dEta18_Phi',\n",
       " 'TrkMu15_DoubleTrkMu5NoFiltersNoVtx',\n",
       " 'TrkMu17_DoubleTrkMu8NoFiltersNoVtx',\n",
       " 'Mu8',\n",
       " 'Mu17',\n",
       " 'Mu3_PFJet40',\n",
       " 'Ele8_CaloIdM_TrackIdM_PFJet30',\n",
       " 'Ele12_CaloIdM_TrackIdM_PFJet30',\n",
       " 'Ele17_CaloIdM_TrackIdM_PFJet30',\n",
       " 'Ele23_CaloIdM_TrackIdM_PFJet30',\n",
       " 'Ele50_CaloIdVT_GsfTrkIdT_PFJet140',\n",
       " 'Ele50_CaloIdVT_GsfTrkIdT_PFJet165',\n",
       " 'PFHT450_SixJet40_BTagCSV_p056',\n",
       " 'PFHT400_SixJet30_DoubleBTagCSV_p056',\n",
       " 'PFHT450_SixJet40',\n",
       " 'PFHT400_SixJet30',\n",
       " 'Ele115_CaloIdVT_GsfTrkIdT',\n",
       " 'Mu55',\n",
       " 'Photon42_R9Id85_OR_CaloId24b40e_Iso50T80L_Photon25_AND_HE10_R9Id65_Eta2_Mass15',\n",
       " 'Photon90_CaloIdL_PFHT600',\n",
       " 'PixelTracks_Multiplicity60ForEndOfFill',\n",
       " 'PixelTracks_Multiplicity85ForEndOfFill',\n",
       " 'PixelTracks_Multiplicity110ForEndOfFill',\n",
       " 'PixelTracks_Multiplicity135ForEndOfFill',\n",
       " 'PixelTracks_Multiplicity160ForEndOfFill',\n",
       " 'FullTracks_Multiplicity80',\n",
       " 'FullTracks_Multiplicity100',\n",
       " 'FullTracks_Multiplicity130',\n",
       " 'FullTracks_Multiplicity150',\n",
       " 'ECALHT800',\n",
       " 'DiSC30_18_EIso_AND_HE_Mass70',\n",
       " 'MET200',\n",
       " 'Ele27_HighEta_Ele20_Mass55',\n",
       " 'Physics',\n",
       " 'Physics_part0',\n",
       " 'Physics_part1',\n",
       " 'Physics_part2',\n",
       " 'Physics_part3',\n",
       " 'Random',\n",
       " 'ZeroBias',\n",
       " 'AK4CaloJet30',\n",
       " 'AK4CaloJet40',\n",
       " 'AK4CaloJet50',\n",
       " 'AK4CaloJet80',\n",
       " 'AK4CaloJet100',\n",
       " 'AK4PFJet30',\n",
       " 'AK4PFJet50',\n",
       " 'AK4PFJet80',\n",
       " 'AK4PFJet100',\n",
       " 'HISinglePhoton10',\n",
       " 'HISinglePhoton15',\n",
       " 'HISinglePhoton20',\n",
       " 'HISinglePhoton40',\n",
       " 'HISinglePhoton60',\n",
       " 'EcalCalibration',\n",
       " 'HcalCalibration',\n",
       " 'GlobalRunHPDNoise',\n",
       " 'L1MinimumBiasHF_OR',\n",
       " 'L1BptxXOR',\n",
       " 'L1BeamGasPlus',\n",
       " 'L1BeamGasMinus',\n",
       " 'L1MinimumBiasHF_AND',\n",
       " 'HcalNZS',\n",
       " 'HcalPhiSym',\n",
       " 'ZeroBias_IsolatedBunches',\n",
       " 'Photon500',\n",
       " 'Photon600',\n",
       " 'Mu300',\n",
       " 'Mu350',\n",
       " 'MET250',\n",
       " 'MET300',\n",
       " 'MET600',\n",
       " 'MET700',\n",
       " 'PFMET300',\n",
       " 'PFMET400',\n",
       " 'PFMET500',\n",
       " 'PFMET600',\n",
       " 'HT2000',\n",
       " 'HT2500',\n",
       " 'L1FatEvents',\n",
       " 'IsoTrackHE',\n",
       " 'IsoTrackHB',\n",
       " 'ZeroBias_part0',\n",
       " 'ZeroBias_part2',\n",
       " 'ZeroBias_part3',\n",
       " 'ZeroBias_part1']"
      ]
     },
     "execution_count": 114,
     "metadata": {},
     "output_type": "execute_result"
    }
   ],
   "source": [
    "e2 = NanoEventsFactory.from_root(f, schemaclass=NanoAODSchema, entry_stop=10000).events()\n",
    "e2.HLT.fields"
   ]
  },
  {
   "cell_type": "code",
   "execution_count": 115,
   "id": "b5a4843c",
   "metadata": {},
   "outputs": [
    {
     "data": {
      "text/plain": [
       "['BTagMu_DiJet20_Mu5',\n",
       " 'BTagMu_DiJet40_Mu5',\n",
       " 'BTagMu_DiJet70_Mu5',\n",
       " 'BTagMu_DiJet110_Mu5',\n",
       " 'BTagMu_Jet300_Mu5']"
      ]
     },
     "execution_count": 115,
     "metadata": {},
     "output_type": "execute_result"
    }
   ],
   "source": [
    "list(filter(lambda x : 'BTagMu' in x, e2.HLT.fields))"
   ]
  },
  {
   "cell_type": "code",
   "execution_count": null,
   "id": "4d75b1b4",
   "metadata": {},
   "outputs": [],
   "source": []
  }
 ],
 "metadata": {
  "kernelspec": {
   "display_name": "Python 3 (ipykernel)",
   "language": "python",
   "name": "python3"
  },
  "language_info": {
   "codemirror_mode": {
    "name": "ipython",
    "version": 3
   },
   "file_extension": ".py",
   "mimetype": "text/x-python",
   "name": "python",
   "nbconvert_exporter": "python",
   "pygments_lexer": "ipython3",
   "version": "3.8.15"
  }
 },
 "nbformat": 4,
 "nbformat_minor": 5
}
